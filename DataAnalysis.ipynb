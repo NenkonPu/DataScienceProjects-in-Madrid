{
  "nbformat": 4,
  "nbformat_minor": 0,
  "metadata": {
    "colab": {
      "name": "DataAnalysis.ipynb",
      "provenance": [],
      "collapsed_sections": [],
      "toc_visible": true,
      "include_colab_link": true
    },
    "kernelspec": {
      "name": "python3",
      "display_name": "Python 3"
    }
  },
  "cells": [
    {
      "cell_type": "markdown",
      "metadata": {
        "id": "view-in-github",
        "colab_type": "text"
      },
      "source": [
        "<a href=\"https://colab.research.google.com/github/NenkonPu/DataScienceProjects-in-Madrid/blob/master/DataAnalysis.ipynb\" target=\"_parent\"><img src=\"https://colab.research.google.com/assets/colab-badge.svg\" alt=\"Open In Colab\"/></a>"
      ]
    },
    {
      "cell_type": "code",
      "metadata": {
        "id": "15BTLBC-2Myn",
        "colab_type": "code",
        "outputId": "153a85f9-c3f6-439a-e7d9-37caa9120bdf",
        "colab": {
          "base_uri": "https://localhost:8080/",
          "height": 237
        }
      },
      "source": [
        "!pip install seaborn"
      ],
      "execution_count": 0,
      "outputs": [
        {
          "output_type": "stream",
          "text": [
            "Requirement already satisfied: seaborn in /usr/local/lib/python3.6/dist-packages (0.9.0)\n",
            "Requirement already satisfied: scipy>=0.14.0 in /usr/local/lib/python3.6/dist-packages (from seaborn) (1.4.1)\n",
            "Requirement already satisfied: matplotlib>=1.4.3 in /usr/local/lib/python3.6/dist-packages (from seaborn) (3.1.2)\n",
            "Requirement already satisfied: numpy>=1.9.3 in /usr/local/lib/python3.6/dist-packages (from seaborn) (1.17.5)\n",
            "Requirement already satisfied: pandas>=0.15.2 in /usr/local/lib/python3.6/dist-packages (from seaborn) (0.25.3)\n",
            "Requirement already satisfied: kiwisolver>=1.0.1 in /usr/local/lib/python3.6/dist-packages (from matplotlib>=1.4.3->seaborn) (1.1.0)\n",
            "Requirement already satisfied: cycler>=0.10 in /usr/local/lib/python3.6/dist-packages (from matplotlib>=1.4.3->seaborn) (0.10.0)\n",
            "Requirement already satisfied: python-dateutil>=2.1 in /usr/local/lib/python3.6/dist-packages (from matplotlib>=1.4.3->seaborn) (2.6.1)\n",
            "Requirement already satisfied: pyparsing!=2.0.4,!=2.1.2,!=2.1.6,>=2.0.1 in /usr/local/lib/python3.6/dist-packages (from matplotlib>=1.4.3->seaborn) (2.4.6)\n",
            "Requirement already satisfied: pytz>=2017.2 in /usr/local/lib/python3.6/dist-packages (from pandas>=0.15.2->seaborn) (2018.9)\n",
            "Requirement already satisfied: setuptools in /usr/local/lib/python3.6/dist-packages (from kiwisolver>=1.0.1->matplotlib>=1.4.3->seaborn) (42.0.2)\n",
            "Requirement already satisfied: six in /usr/local/lib/python3.6/dist-packages (from cycler>=0.10->matplotlib>=1.4.3->seaborn) (1.12.0)\n"
          ],
          "name": "stdout"
        }
      ]
    },
    {
      "cell_type": "markdown",
      "metadata": {
        "id": "VhO2FN6w8cHm",
        "colab_type": "text"
      },
      "source": [
        "# Data preparation"
      ]
    },
    {
      "cell_type": "code",
      "metadata": {
        "id": "fxCQjG10fwfV",
        "colab_type": "code",
        "outputId": "0ae7dd9b-2f4b-43a0-d3f1-d20c82f303a0",
        "colab": {
          "base_uri": "https://localhost:8080/",
          "height": 808
        }
      },
      "source": [
        "from matplotlib import pyplot as plt \n",
        "import pandas as pd \n",
        "\n",
        "#data information \n",
        "data = pd.read_csv('kidney_fail_dataset.csv')\n",
        "print('\\ndata information')\n",
        "data.info()\n",
        "print('\\ndata description')\n",
        "data.head()\n"
      ],
      "execution_count": 0,
      "outputs": [
        {
          "output_type": "stream",
          "text": [
            "\n",
            "data information\n",
            "<class 'pandas.core.frame.DataFrame'>\n",
            "RangeIndex: 957 entries, 0 to 956\n",
            "Data columns (total 19 columns):\n",
            "patient_id                          957 non-null int64\n",
            "height                              957 non-null float64\n",
            "weight                              957 non-null float64\n",
            "kidney absortion test               957 non-null int64\n",
            "urea                                836 non-null float64\n",
            "monocytes                           832 non-null float64\n",
            "granulocytes                        832 non-null float64\n",
            "kidney enzyme test                  957 non-null int64\n",
            "eosinophils                         832 non-null float64\n",
            "basophils                           832 non-null float64\n",
            "kidney suffering test               957 non-null int64\n",
            "platelets                           833 non-null float64\n",
            "d_dimer                             672 non-null float64\n",
            "kidney genetic test (gene a3hc)     957 non-null int64\n",
            "kidney genetic test (gene 6a3cp)    957 non-null int64\n",
            "mean_platelet_volume                833 non-null float64\n",
            "leukocytes                          833 non-null float64\n",
            "glucose                             836 non-null float64\n",
            "kidney failure                      957 non-null int64\n",
            "dtypes: float64(12), int64(7)\n",
            "memory usage: 142.2 KB\n",
            "\n",
            "data description\n"
          ],
          "name": "stdout"
        },
        {
          "output_type": "execute_result",
          "data": {
            "text/html": [
              "<div>\n",
              "<style scoped>\n",
              "    .dataframe tbody tr th:only-of-type {\n",
              "        vertical-align: middle;\n",
              "    }\n",
              "\n",
              "    .dataframe tbody tr th {\n",
              "        vertical-align: top;\n",
              "    }\n",
              "\n",
              "    .dataframe thead th {\n",
              "        text-align: right;\n",
              "    }\n",
              "</style>\n",
              "<table border=\"1\" class=\"dataframe\">\n",
              "  <thead>\n",
              "    <tr style=\"text-align: right;\">\n",
              "      <th></th>\n",
              "      <th>patient_id</th>\n",
              "      <th>height</th>\n",
              "      <th>weight</th>\n",
              "      <th>kidney absortion test</th>\n",
              "      <th>urea</th>\n",
              "      <th>monocytes</th>\n",
              "      <th>granulocytes</th>\n",
              "      <th>kidney enzyme test</th>\n",
              "      <th>eosinophils</th>\n",
              "      <th>basophils</th>\n",
              "      <th>kidney suffering test</th>\n",
              "      <th>platelets</th>\n",
              "      <th>d_dimer</th>\n",
              "      <th>kidney genetic test (gene a3hc)</th>\n",
              "      <th>kidney genetic test (gene 6a3cp)</th>\n",
              "      <th>mean_platelet_volume</th>\n",
              "      <th>leukocytes</th>\n",
              "      <th>glucose</th>\n",
              "      <th>kidney failure</th>\n",
              "    </tr>\n",
              "  </thead>\n",
              "  <tbody>\n",
              "    <tr>\n",
              "      <th>0</th>\n",
              "      <td>1</td>\n",
              "      <td>68.9</td>\n",
              "      <td>162.2</td>\n",
              "      <td>0</td>\n",
              "      <td>36.3</td>\n",
              "      <td>7.035</td>\n",
              "      <td>43.365</td>\n",
              "      <td>0</td>\n",
              "      <td>6.283</td>\n",
              "      <td>0.728</td>\n",
              "      <td>1</td>\n",
              "      <td>261.04</td>\n",
              "      <td>112.35</td>\n",
              "      <td>0</td>\n",
              "      <td>0</td>\n",
              "      <td>7.650</td>\n",
              "      <td>6.760</td>\n",
              "      <td>107.06</td>\n",
              "      <td>0</td>\n",
              "    </tr>\n",
              "    <tr>\n",
              "      <th>1</th>\n",
              "      <td>2</td>\n",
              "      <td>57.2</td>\n",
              "      <td>160.6</td>\n",
              "      <td>0</td>\n",
              "      <td>50.6</td>\n",
              "      <td>6.930</td>\n",
              "      <td>68.565</td>\n",
              "      <td>0</td>\n",
              "      <td>4.841</td>\n",
              "      <td>0.624</td>\n",
              "      <td>0</td>\n",
              "      <td>331.76</td>\n",
              "      <td>NaN</td>\n",
              "      <td>0</td>\n",
              "      <td>0</td>\n",
              "      <td>8.364</td>\n",
              "      <td>8.632</td>\n",
              "      <td>188.68</td>\n",
              "      <td>1</td>\n",
              "    </tr>\n",
              "    <tr>\n",
              "      <th>2</th>\n",
              "      <td>3</td>\n",
              "      <td>57.6</td>\n",
              "      <td>122.0</td>\n",
              "      <td>0</td>\n",
              "      <td>NaN</td>\n",
              "      <td>NaN</td>\n",
              "      <td>NaN</td>\n",
              "      <td>0</td>\n",
              "      <td>NaN</td>\n",
              "      <td>NaN</td>\n",
              "      <td>0</td>\n",
              "      <td>NaN</td>\n",
              "      <td>NaN</td>\n",
              "      <td>0</td>\n",
              "      <td>0</td>\n",
              "      <td>NaN</td>\n",
              "      <td>NaN</td>\n",
              "      <td>NaN</td>\n",
              "      <td>1</td>\n",
              "    </tr>\n",
              "    <tr>\n",
              "      <th>3</th>\n",
              "      <td>4</td>\n",
              "      <td>58.4</td>\n",
              "      <td>228.0</td>\n",
              "      <td>0</td>\n",
              "      <td>27.5</td>\n",
              "      <td>11.235</td>\n",
              "      <td>57.015</td>\n",
              "      <td>1</td>\n",
              "      <td>4.738</td>\n",
              "      <td>0.832</td>\n",
              "      <td>0</td>\n",
              "      <td>600.08</td>\n",
              "      <td>NaN</td>\n",
              "      <td>0</td>\n",
              "      <td>0</td>\n",
              "      <td>8.772</td>\n",
              "      <td>7.696</td>\n",
              "      <td>119.78</td>\n",
              "      <td>0</td>\n",
              "    </tr>\n",
              "    <tr>\n",
              "      <th>4</th>\n",
              "      <td>5</td>\n",
              "      <td>48.7</td>\n",
              "      <td>138.8</td>\n",
              "      <td>0</td>\n",
              "      <td>50.6</td>\n",
              "      <td>8.400</td>\n",
              "      <td>48.195</td>\n",
              "      <td>0</td>\n",
              "      <td>4.635</td>\n",
              "      <td>0.520</td>\n",
              "      <td>0</td>\n",
              "      <td>200.72</td>\n",
              "      <td>NaN</td>\n",
              "      <td>0</td>\n",
              "      <td>1</td>\n",
              "      <td>9.384</td>\n",
              "      <td>6.656</td>\n",
              "      <td>124.02</td>\n",
              "      <td>0</td>\n",
              "    </tr>\n",
              "  </tbody>\n",
              "</table>\n",
              "</div>"
            ],
            "text/plain": [
              "   patient_id  height  weight  ...  leukocytes  glucose  kidney failure\n",
              "0           1    68.9   162.2  ...       6.760   107.06               0\n",
              "1           2    57.2   160.6  ...       8.632   188.68               1\n",
              "2           3    57.6   122.0  ...         NaN      NaN               1\n",
              "3           4    58.4   228.0  ...       7.696   119.78               0\n",
              "4           5    48.7   138.8  ...       6.656   124.02               0\n",
              "\n",
              "[5 rows x 19 columns]"
            ]
          },
          "metadata": {
            "tags": []
          },
          "execution_count": 4
        }
      ]
    },
    {
      "cell_type": "code",
      "metadata": {
        "id": "yL-_ta-gOsNF",
        "colab_type": "code",
        "outputId": "ab944024-655d-4cd0-8e91-757ec9bd1de0",
        "colab": {
          "base_uri": "https://localhost:8080/",
          "height": 550
        }
      },
      "source": [
        "print('\\ndata isnull?')\n",
        "data.isnull()"
      ],
      "execution_count": 0,
      "outputs": [
        {
          "output_type": "stream",
          "text": [
            "\n",
            "data isnull?\n"
          ],
          "name": "stdout"
        },
        {
          "output_type": "execute_result",
          "data": {
            "text/html": [
              "<div>\n",
              "<style scoped>\n",
              "    .dataframe tbody tr th:only-of-type {\n",
              "        vertical-align: middle;\n",
              "    }\n",
              "\n",
              "    .dataframe tbody tr th {\n",
              "        vertical-align: top;\n",
              "    }\n",
              "\n",
              "    .dataframe thead th {\n",
              "        text-align: right;\n",
              "    }\n",
              "</style>\n",
              "<table border=\"1\" class=\"dataframe\">\n",
              "  <thead>\n",
              "    <tr style=\"text-align: right;\">\n",
              "      <th></th>\n",
              "      <th>patient_id</th>\n",
              "      <th>height</th>\n",
              "      <th>weight</th>\n",
              "      <th>kidney absortion test</th>\n",
              "      <th>urea</th>\n",
              "      <th>monocytes</th>\n",
              "      <th>granulocytes</th>\n",
              "      <th>kidney enzyme test</th>\n",
              "      <th>eosinophils</th>\n",
              "      <th>basophils</th>\n",
              "      <th>kidney suffering test</th>\n",
              "      <th>platelets</th>\n",
              "      <th>d_dimer</th>\n",
              "      <th>kidney genetic test (gene a3hc)</th>\n",
              "      <th>kidney genetic test (gene 6a3cp)</th>\n",
              "      <th>mean_platelet_volume</th>\n",
              "      <th>leukocytes</th>\n",
              "      <th>glucose</th>\n",
              "      <th>kidney failure</th>\n",
              "    </tr>\n",
              "  </thead>\n",
              "  <tbody>\n",
              "    <tr>\n",
              "      <th>0</th>\n",
              "      <td>False</td>\n",
              "      <td>False</td>\n",
              "      <td>False</td>\n",
              "      <td>False</td>\n",
              "      <td>False</td>\n",
              "      <td>False</td>\n",
              "      <td>False</td>\n",
              "      <td>False</td>\n",
              "      <td>False</td>\n",
              "      <td>False</td>\n",
              "      <td>False</td>\n",
              "      <td>False</td>\n",
              "      <td>False</td>\n",
              "      <td>False</td>\n",
              "      <td>False</td>\n",
              "      <td>False</td>\n",
              "      <td>False</td>\n",
              "      <td>False</td>\n",
              "      <td>False</td>\n",
              "    </tr>\n",
              "    <tr>\n",
              "      <th>1</th>\n",
              "      <td>False</td>\n",
              "      <td>False</td>\n",
              "      <td>False</td>\n",
              "      <td>False</td>\n",
              "      <td>False</td>\n",
              "      <td>False</td>\n",
              "      <td>False</td>\n",
              "      <td>False</td>\n",
              "      <td>False</td>\n",
              "      <td>False</td>\n",
              "      <td>False</td>\n",
              "      <td>False</td>\n",
              "      <td>True</td>\n",
              "      <td>False</td>\n",
              "      <td>False</td>\n",
              "      <td>False</td>\n",
              "      <td>False</td>\n",
              "      <td>False</td>\n",
              "      <td>False</td>\n",
              "    </tr>\n",
              "    <tr>\n",
              "      <th>2</th>\n",
              "      <td>False</td>\n",
              "      <td>False</td>\n",
              "      <td>False</td>\n",
              "      <td>False</td>\n",
              "      <td>True</td>\n",
              "      <td>True</td>\n",
              "      <td>True</td>\n",
              "      <td>False</td>\n",
              "      <td>True</td>\n",
              "      <td>True</td>\n",
              "      <td>False</td>\n",
              "      <td>True</td>\n",
              "      <td>True</td>\n",
              "      <td>False</td>\n",
              "      <td>False</td>\n",
              "      <td>True</td>\n",
              "      <td>True</td>\n",
              "      <td>True</td>\n",
              "      <td>False</td>\n",
              "    </tr>\n",
              "    <tr>\n",
              "      <th>3</th>\n",
              "      <td>False</td>\n",
              "      <td>False</td>\n",
              "      <td>False</td>\n",
              "      <td>False</td>\n",
              "      <td>False</td>\n",
              "      <td>False</td>\n",
              "      <td>False</td>\n",
              "      <td>False</td>\n",
              "      <td>False</td>\n",
              "      <td>False</td>\n",
              "      <td>False</td>\n",
              "      <td>False</td>\n",
              "      <td>True</td>\n",
              "      <td>False</td>\n",
              "      <td>False</td>\n",
              "      <td>False</td>\n",
              "      <td>False</td>\n",
              "      <td>False</td>\n",
              "      <td>False</td>\n",
              "    </tr>\n",
              "    <tr>\n",
              "      <th>4</th>\n",
              "      <td>False</td>\n",
              "      <td>False</td>\n",
              "      <td>False</td>\n",
              "      <td>False</td>\n",
              "      <td>False</td>\n",
              "      <td>False</td>\n",
              "      <td>False</td>\n",
              "      <td>False</td>\n",
              "      <td>False</td>\n",
              "      <td>False</td>\n",
              "      <td>False</td>\n",
              "      <td>False</td>\n",
              "      <td>True</td>\n",
              "      <td>False</td>\n",
              "      <td>False</td>\n",
              "      <td>False</td>\n",
              "      <td>False</td>\n",
              "      <td>False</td>\n",
              "      <td>False</td>\n",
              "    </tr>\n",
              "    <tr>\n",
              "      <th>...</th>\n",
              "      <td>...</td>\n",
              "      <td>...</td>\n",
              "      <td>...</td>\n",
              "      <td>...</td>\n",
              "      <td>...</td>\n",
              "      <td>...</td>\n",
              "      <td>...</td>\n",
              "      <td>...</td>\n",
              "      <td>...</td>\n",
              "      <td>...</td>\n",
              "      <td>...</td>\n",
              "      <td>...</td>\n",
              "      <td>...</td>\n",
              "      <td>...</td>\n",
              "      <td>...</td>\n",
              "      <td>...</td>\n",
              "      <td>...</td>\n",
              "      <td>...</td>\n",
              "      <td>...</td>\n",
              "    </tr>\n",
              "    <tr>\n",
              "      <th>952</th>\n",
              "      <td>False</td>\n",
              "      <td>False</td>\n",
              "      <td>False</td>\n",
              "      <td>False</td>\n",
              "      <td>False</td>\n",
              "      <td>False</td>\n",
              "      <td>False</td>\n",
              "      <td>False</td>\n",
              "      <td>False</td>\n",
              "      <td>False</td>\n",
              "      <td>False</td>\n",
              "      <td>False</td>\n",
              "      <td>True</td>\n",
              "      <td>False</td>\n",
              "      <td>False</td>\n",
              "      <td>False</td>\n",
              "      <td>False</td>\n",
              "      <td>False</td>\n",
              "      <td>False</td>\n",
              "    </tr>\n",
              "    <tr>\n",
              "      <th>953</th>\n",
              "      <td>False</td>\n",
              "      <td>False</td>\n",
              "      <td>False</td>\n",
              "      <td>False</td>\n",
              "      <td>False</td>\n",
              "      <td>False</td>\n",
              "      <td>False</td>\n",
              "      <td>False</td>\n",
              "      <td>False</td>\n",
              "      <td>False</td>\n",
              "      <td>False</td>\n",
              "      <td>False</td>\n",
              "      <td>False</td>\n",
              "      <td>False</td>\n",
              "      <td>False</td>\n",
              "      <td>False</td>\n",
              "      <td>False</td>\n",
              "      <td>False</td>\n",
              "      <td>False</td>\n",
              "    </tr>\n",
              "    <tr>\n",
              "      <th>954</th>\n",
              "      <td>False</td>\n",
              "      <td>False</td>\n",
              "      <td>False</td>\n",
              "      <td>False</td>\n",
              "      <td>False</td>\n",
              "      <td>False</td>\n",
              "      <td>False</td>\n",
              "      <td>False</td>\n",
              "      <td>False</td>\n",
              "      <td>False</td>\n",
              "      <td>False</td>\n",
              "      <td>False</td>\n",
              "      <td>True</td>\n",
              "      <td>False</td>\n",
              "      <td>False</td>\n",
              "      <td>False</td>\n",
              "      <td>False</td>\n",
              "      <td>False</td>\n",
              "      <td>False</td>\n",
              "    </tr>\n",
              "    <tr>\n",
              "      <th>955</th>\n",
              "      <td>False</td>\n",
              "      <td>False</td>\n",
              "      <td>False</td>\n",
              "      <td>False</td>\n",
              "      <td>False</td>\n",
              "      <td>False</td>\n",
              "      <td>False</td>\n",
              "      <td>False</td>\n",
              "      <td>False</td>\n",
              "      <td>False</td>\n",
              "      <td>False</td>\n",
              "      <td>False</td>\n",
              "      <td>False</td>\n",
              "      <td>False</td>\n",
              "      <td>False</td>\n",
              "      <td>False</td>\n",
              "      <td>False</td>\n",
              "      <td>False</td>\n",
              "      <td>False</td>\n",
              "    </tr>\n",
              "    <tr>\n",
              "      <th>956</th>\n",
              "      <td>False</td>\n",
              "      <td>False</td>\n",
              "      <td>False</td>\n",
              "      <td>False</td>\n",
              "      <td>False</td>\n",
              "      <td>False</td>\n",
              "      <td>False</td>\n",
              "      <td>False</td>\n",
              "      <td>False</td>\n",
              "      <td>False</td>\n",
              "      <td>False</td>\n",
              "      <td>False</td>\n",
              "      <td>True</td>\n",
              "      <td>False</td>\n",
              "      <td>False</td>\n",
              "      <td>False</td>\n",
              "      <td>False</td>\n",
              "      <td>False</td>\n",
              "      <td>False</td>\n",
              "    </tr>\n",
              "  </tbody>\n",
              "</table>\n",
              "<p>957 rows × 19 columns</p>\n",
              "</div>"
            ],
            "text/plain": [
              "     patient_id  height  weight  ...  leukocytes  glucose  kidney failure\n",
              "0         False   False   False  ...       False    False           False\n",
              "1         False   False   False  ...       False    False           False\n",
              "2         False   False   False  ...        True     True           False\n",
              "3         False   False   False  ...       False    False           False\n",
              "4         False   False   False  ...       False    False           False\n",
              "..          ...     ...     ...  ...         ...      ...             ...\n",
              "952       False   False   False  ...       False    False           False\n",
              "953       False   False   False  ...       False    False           False\n",
              "954       False   False   False  ...       False    False           False\n",
              "955       False   False   False  ...       False    False           False\n",
              "956       False   False   False  ...       False    False           False\n",
              "\n",
              "[957 rows x 19 columns]"
            ]
          },
          "metadata": {
            "tags": []
          },
          "execution_count": 5
        }
      ]
    },
    {
      "cell_type": "code",
      "metadata": {
        "id": "QqyyNGxx2jb1",
        "colab_type": "code",
        "outputId": "820e6490-572c-4e4b-f553-85780000af1e",
        "colab": {
          "base_uri": "https://localhost:8080/",
          "height": 390
        }
      },
      "source": [
        "data.describe()"
      ],
      "execution_count": 0,
      "outputs": [
        {
          "output_type": "execute_result",
          "data": {
            "text/html": [
              "<div>\n",
              "<style scoped>\n",
              "    .dataframe tbody tr th:only-of-type {\n",
              "        vertical-align: middle;\n",
              "    }\n",
              "\n",
              "    .dataframe tbody tr th {\n",
              "        vertical-align: top;\n",
              "    }\n",
              "\n",
              "    .dataframe thead th {\n",
              "        text-align: right;\n",
              "    }\n",
              "</style>\n",
              "<table border=\"1\" class=\"dataframe\">\n",
              "  <thead>\n",
              "    <tr style=\"text-align: right;\">\n",
              "      <th></th>\n",
              "      <th>patient_id</th>\n",
              "      <th>height</th>\n",
              "      <th>weight</th>\n",
              "      <th>kidney absortion test</th>\n",
              "      <th>urea</th>\n",
              "      <th>monocytes</th>\n",
              "      <th>granulocytes</th>\n",
              "      <th>kidney enzyme test</th>\n",
              "      <th>eosinophils</th>\n",
              "      <th>basophils</th>\n",
              "      <th>kidney suffering test</th>\n",
              "      <th>platelets</th>\n",
              "      <th>d_dimer</th>\n",
              "      <th>kidney genetic test (gene a3hc)</th>\n",
              "      <th>kidney genetic test (gene 6a3cp)</th>\n",
              "      <th>mean_platelet_volume</th>\n",
              "      <th>leukocytes</th>\n",
              "      <th>glucose</th>\n",
              "      <th>kidney failure</th>\n",
              "    </tr>\n",
              "  </thead>\n",
              "  <tbody>\n",
              "    <tr>\n",
              "      <th>count</th>\n",
              "      <td>957.000000</td>\n",
              "      <td>957.000000</td>\n",
              "      <td>957.000000</td>\n",
              "      <td>957.000000</td>\n",
              "      <td>836.000000</td>\n",
              "      <td>832.000000</td>\n",
              "      <td>832.000000</td>\n",
              "      <td>957.000000</td>\n",
              "      <td>832.000000</td>\n",
              "      <td>832.000000</td>\n",
              "      <td>957.000000</td>\n",
              "      <td>833.000000</td>\n",
              "      <td>672.000000</td>\n",
              "      <td>957.000000</td>\n",
              "      <td>957.000000</td>\n",
              "      <td>833.000000</td>\n",
              "      <td>833.000000</td>\n",
              "      <td>836.000000</td>\n",
              "      <td>957.000000</td>\n",
              "    </tr>\n",
              "    <tr>\n",
              "      <th>mean</th>\n",
              "      <td>479.000000</td>\n",
              "      <td>62.100731</td>\n",
              "      <td>161.368757</td>\n",
              "      <td>0.147335</td>\n",
              "      <td>49.471053</td>\n",
              "      <td>8.299796</td>\n",
              "      <td>59.710294</td>\n",
              "      <td>0.274817</td>\n",
              "      <td>3.164031</td>\n",
              "      <td>0.539750</td>\n",
              "      <td>0.215256</td>\n",
              "      <td>239.991549</td>\n",
              "      <td>590.095590</td>\n",
              "      <td>0.107628</td>\n",
              "      <td>0.219436</td>\n",
              "      <td>8.992286</td>\n",
              "      <td>7.047504</td>\n",
              "      <td>113.947464</td>\n",
              "      <td>0.480669</td>\n",
              "    </tr>\n",
              "    <tr>\n",
              "      <th>std</th>\n",
              "      <td>276.406404</td>\n",
              "      <td>6.773129</td>\n",
              "      <td>28.742087</td>\n",
              "      <td>0.354625</td>\n",
              "      <td>15.976991</td>\n",
              "      <td>1.922572</td>\n",
              "      <td>9.145803</td>\n",
              "      <td>0.446656</td>\n",
              "      <td>2.068868</td>\n",
              "      <td>0.210364</td>\n",
              "      <td>0.411215</td>\n",
              "      <td>62.751587</td>\n",
              "      <td>704.846678</td>\n",
              "      <td>0.310072</td>\n",
              "      <td>0.414081</td>\n",
              "      <td>1.187040</td>\n",
              "      <td>1.776296</td>\n",
              "      <td>27.989851</td>\n",
              "      <td>0.499887</td>\n",
              "    </tr>\n",
              "    <tr>\n",
              "      <th>min</th>\n",
              "      <td>1.000000</td>\n",
              "      <td>45.700000</td>\n",
              "      <td>77.700000</td>\n",
              "      <td>0.000000</td>\n",
              "      <td>16.500000</td>\n",
              "      <td>3.150000</td>\n",
              "      <td>23.835000</td>\n",
              "      <td>0.000000</td>\n",
              "      <td>0.000000</td>\n",
              "      <td>0.000000</td>\n",
              "      <td>0.000000</td>\n",
              "      <td>61.360000</td>\n",
              "      <td>5.350000</td>\n",
              "      <td>0.000000</td>\n",
              "      <td>0.000000</td>\n",
              "      <td>6.222000</td>\n",
              "      <td>3.432000</td>\n",
              "      <td>68.900000</td>\n",
              "      <td>0.000000</td>\n",
              "    </tr>\n",
              "    <tr>\n",
              "      <th>25%</th>\n",
              "      <td>240.000000</td>\n",
              "      <td>57.000000</td>\n",
              "      <td>141.800000</td>\n",
              "      <td>0.000000</td>\n",
              "      <td>39.600000</td>\n",
              "      <td>6.930000</td>\n",
              "      <td>53.970000</td>\n",
              "      <td>0.000000</td>\n",
              "      <td>1.854000</td>\n",
              "      <td>0.416000</td>\n",
              "      <td>0.000000</td>\n",
              "      <td>198.640000</td>\n",
              "      <td>218.280000</td>\n",
              "      <td>0.000000</td>\n",
              "      <td>0.000000</td>\n",
              "      <td>8.160000</td>\n",
              "      <td>5.824000</td>\n",
              "      <td>97.520000</td>\n",
              "      <td>0.000000</td>\n",
              "    </tr>\n",
              "    <tr>\n",
              "      <th>50%</th>\n",
              "      <td>479.000000</td>\n",
              "      <td>61.900000</td>\n",
              "      <td>159.700000</td>\n",
              "      <td>0.000000</td>\n",
              "      <td>47.300000</td>\n",
              "      <td>8.085000</td>\n",
              "      <td>59.745000</td>\n",
              "      <td>0.000000</td>\n",
              "      <td>2.678000</td>\n",
              "      <td>0.520000</td>\n",
              "      <td>0.000000</td>\n",
              "      <td>234.000000</td>\n",
              "      <td>367.545000</td>\n",
              "      <td>0.000000</td>\n",
              "      <td>0.000000</td>\n",
              "      <td>8.772000</td>\n",
              "      <td>6.864000</td>\n",
              "      <td>106.000000</td>\n",
              "      <td>0.000000</td>\n",
              "    </tr>\n",
              "    <tr>\n",
              "      <th>75%</th>\n",
              "      <td>718.000000</td>\n",
              "      <td>67.400000</td>\n",
              "      <td>178.700000</td>\n",
              "      <td>0.000000</td>\n",
              "      <td>56.100000</td>\n",
              "      <td>9.345000</td>\n",
              "      <td>66.045000</td>\n",
              "      <td>1.000000</td>\n",
              "      <td>3.914000</td>\n",
              "      <td>0.624000</td>\n",
              "      <td>0.000000</td>\n",
              "      <td>273.520000</td>\n",
              "      <td>663.667500</td>\n",
              "      <td>0.000000</td>\n",
              "      <td>0.000000</td>\n",
              "      <td>9.690000</td>\n",
              "      <td>8.112000</td>\n",
              "      <td>121.900000</td>\n",
              "      <td>1.000000</td>\n",
              "    </tr>\n",
              "    <tr>\n",
              "      <th>max</th>\n",
              "      <td>957.000000</td>\n",
              "      <td>80.300000</td>\n",
              "      <td>381.300000</td>\n",
              "      <td>1.000000</td>\n",
              "      <td>227.700000</td>\n",
              "      <td>19.005000</td>\n",
              "      <td>85.050000</td>\n",
              "      <td>1.000000</td>\n",
              "      <td>19.055000</td>\n",
              "      <td>2.080000</td>\n",
              "      <td>1.000000</td>\n",
              "      <td>600.080000</td>\n",
              "      <td>6135.380000</td>\n",
              "      <td>1.000000</td>\n",
              "      <td>1.000000</td>\n",
              "      <td>15.708000</td>\n",
              "      <td>18.824000</td>\n",
              "      <td>284.080000</td>\n",
              "      <td>1.000000</td>\n",
              "    </tr>\n",
              "  </tbody>\n",
              "</table>\n",
              "</div>"
            ],
            "text/plain": [
              "       patient_id      height  ...     glucose  kidney failure\n",
              "count  957.000000  957.000000  ...  836.000000      957.000000\n",
              "mean   479.000000   62.100731  ...  113.947464        0.480669\n",
              "std    276.406404    6.773129  ...   27.989851        0.499887\n",
              "min      1.000000   45.700000  ...   68.900000        0.000000\n",
              "25%    240.000000   57.000000  ...   97.520000        0.000000\n",
              "50%    479.000000   61.900000  ...  106.000000        0.000000\n",
              "75%    718.000000   67.400000  ...  121.900000        1.000000\n",
              "max    957.000000   80.300000  ...  284.080000        1.000000\n",
              "\n",
              "[8 rows x 19 columns]"
            ]
          },
          "metadata": {
            "tags": []
          },
          "execution_count": 6
        }
      ]
    },
    {
      "cell_type": "code",
      "metadata": {
        "id": "sPq0_dmI4-yc",
        "colab_type": "code",
        "colab": {}
      },
      "source": [
        "des = data.describe()\n",
        "des.to_csv('data_description.csv')"
      ],
      "execution_count": 0,
      "outputs": []
    },
    {
      "cell_type": "code",
      "metadata": {
        "id": "_pmTmjqY3C4F",
        "colab_type": "code",
        "outputId": "ab57dedb-bfc4-4eda-f252-2d5207ece167",
        "colab": {
          "base_uri": "https://localhost:8080/",
          "height": 341
        }
      },
      "source": [
        "plt.figure(figsize=(40,5))\n",
        "data.boxplot()\n",
        "plt.show()"
      ],
      "execution_count": 0,
      "outputs": [
        {
          "output_type": "display_data",
          "data": {
            "image/png": "[encoded data removed]",
            "text/plain": [
              "<Figure size 2880x360 with 1 Axes>"
            ]
          },
          "metadata": {
            "tags": []
          }
        }
      ]
    },
    {
      "cell_type": "code",
      "metadata": {
        "id": "OWANqBGW3o-e",
        "colab_type": "code",
        "outputId": "feaa866f-a878-4a04-8016-647f5bf90524",
        "colab": {
          "base_uri": "https://localhost:8080/",
          "height": 338
        }
      },
      "source": [
        "plt.figure(figsize=(15,5))\n",
        "data[['height','weight','urea','granulocytes','platelets','glucose']].boxplot()"
      ],
      "execution_count": 0,
      "outputs": [
        {
          "output_type": "execute_result",
          "data": {
            "text/plain": [
              "<matplotlib.axes._subplots.AxesSubplot at 0x7ff1ff7b79b0>"
            ]
          },
          "metadata": {
            "tags": []
          },
          "execution_count": 9
        },
        {
          "output_type": "display_data",
          "data": {
            "image/png": "[encoded data removed]",
            "text/plain": [
              "<Figure size 1080x360 with 1 Axes>"
            ]
          },
          "metadata": {
            "tags": []
          }
        }
      ]
    },
    {
      "cell_type": "code",
      "metadata": {
        "id": "tZeaQwN5-NVt",
        "colab_type": "code",
        "outputId": "91e2fefb-827e-4f92-b8ae-a161438d48fa",
        "colab": {
          "base_uri": "https://localhost:8080/",
          "height": 343
        }
      },
      "source": [
        "plt.figure(figsize=(15,5))\n",
        "data[['monocytes','eosinophils','basophils','mean_platelet_volume','leukocytes',]].boxplot()"
      ],
      "execution_count": 0,
      "outputs": [
        {
          "output_type": "execute_result",
          "data": {
            "text/plain": [
              "<matplotlib.axes._subplots.AxesSubplot at 0x7ff1ff1d3cf8>"
            ]
          },
          "metadata": {
            "tags": []
          },
          "execution_count": 10
        },
        {
          "output_type": "display_data",
          "data": {
            "image/png": "[encoded data removed]",
            "text/plain": [
              "<Figure size 1080x360 with 1 Axes>"
            ]
          },
          "metadata": {
            "tags": []
          }
        }
      ]
    },
    {
      "cell_type": "code",
      "metadata": {
        "id": "x24IuiTF8bP9",
        "colab_type": "code",
        "outputId": "d89340da-ae14-47b4-dea4-fc6fefb69ae3",
        "colab": {
          "base_uri": "https://localhost:8080/",
          "height": 284
        }
      },
      "source": [
        "data[['d_dimer']].boxplot()\n",
        "plt.plot()"
      ],
      "execution_count": 0,
      "outputs": [
        {
          "output_type": "execute_result",
          "data": {
            "text/plain": [
              "[]"
            ]
          },
          "metadata": {
            "tags": []
          },
          "execution_count": 11
        },
        {
          "output_type": "display_data",
          "data": {
            "image/png": "[encoded data removed]",
            "text/plain": [
              "<Figure size 432x288 with 1 Axes>"
            ]
          },
          "metadata": {
            "tags": []
          }
        }
      ]
    },
    {
      "cell_type": "code",
      "metadata": {
        "id": "7ZVAyfgp_MOz",
        "colab_type": "code",
        "outputId": "83972158-4579-47c2-b384-b43fb7223d52",
        "colab": {
          "base_uri": "https://localhost:8080/",
          "height": 318
        }
      },
      "source": [
        "data[['kidney genetic test (gene 6a3cp)']].hist()"
      ],
      "execution_count": 0,
      "outputs": [
        {
          "output_type": "execute_result",
          "data": {
            "text/plain": [
              "array([[<matplotlib.axes._subplots.AxesSubplot object at 0x7ff1ff0d5a90>]],\n",
              "      dtype=object)"
            ]
          },
          "metadata": {
            "tags": []
          },
          "execution_count": 12
        },
        {
          "output_type": "display_data",
          "data": {
            "image/png": "[encoded data removed]",
            "text/plain": [
              "<Figure size 432x288 with 1 Axes>"
            ]
          },
          "metadata": {
            "tags": []
          }
        }
      ]
    },
    {
      "cell_type": "code",
      "metadata": {
        "id": "wZBir1itAnZg",
        "colab_type": "code",
        "outputId": "e5c0010b-a793-4d79-a36c-9278ef71cb6d",
        "colab": {
          "base_uri": "https://localhost:8080/",
          "height": 318
        }
      },
      "source": [
        "data[['kidney absortion test']].hist()"
      ],
      "execution_count": 0,
      "outputs": [
        {
          "output_type": "execute_result",
          "data": {
            "text/plain": [
              "array([[<matplotlib.axes._subplots.AxesSubplot object at 0x7ff1ff0bbef0>]],\n",
              "      dtype=object)"
            ]
          },
          "metadata": {
            "tags": []
          },
          "execution_count": 13
        },
        {
          "output_type": "display_data",
          "data": {
            "image/png": "[encoded data removed]",
            "text/plain": [
              "<Figure size 432x288 with 1 Axes>"
            ]
          },
          "metadata": {
            "tags": []
          }
        }
      ]
    },
    {
      "cell_type": "code",
      "metadata": {
        "id": "Tu6cwToEAoKH",
        "colab_type": "code",
        "outputId": "66786b23-ddf8-4a35-8bb5-31e1e554c27f",
        "colab": {
          "base_uri": "https://localhost:8080/",
          "height": 318
        }
      },
      "source": [
        "data[['kidney suffering test']].hist()"
      ],
      "execution_count": 0,
      "outputs": [
        {
          "output_type": "execute_result",
          "data": {
            "text/plain": [
              "array([[<matplotlib.axes._subplots.AxesSubplot object at 0x7ff1ff006d30>]],\n",
              "      dtype=object)"
            ]
          },
          "metadata": {
            "tags": []
          },
          "execution_count": 14
        },
        {
          "output_type": "display_data",
          "data": {
            "image/png": "[encoded data removed]",
            "text/plain": [
              "<Figure size 432x288 with 1 Axes>"
            ]
          },
          "metadata": {
            "tags": []
          }
        }
      ]
    },
    {
      "cell_type": "code",
      "metadata": {
        "id": "pMabSHSyBFjK",
        "colab_type": "code",
        "outputId": "07873410-5fe6-402b-8403-92eb6b6d8602",
        "colab": {
          "base_uri": "https://localhost:8080/",
          "height": 318
        }
      },
      "source": [
        "data[['kidney genetic test (gene a3hc)']].hist()"
      ],
      "execution_count": 0,
      "outputs": [
        {
          "output_type": "execute_result",
          "data": {
            "text/plain": [
              "array([[<matplotlib.axes._subplots.AxesSubplot object at 0x7ff1ff0cb438>]],\n",
              "      dtype=object)"
            ]
          },
          "metadata": {
            "tags": []
          },
          "execution_count": 15
        },
        {
          "output_type": "display_data",
          "data": {
            "image/png": "[encoded data removed]",
            "text/plain": [
              "<Figure size 432x288 with 1 Axes>"
            ]
          },
          "metadata": {
            "tags": []
          }
        }
      ]
    },
    {
      "cell_type": "code",
      "metadata": {
        "id": "DvLwnfFjBOWE",
        "colab_type": "code",
        "outputId": "633ead75-28b0-46de-f6f6-ecea43dd86b2",
        "colab": {
          "base_uri": "https://localhost:8080/",
          "height": 318
        }
      },
      "source": [
        "data[['kidney failure']].hist()"
      ],
      "execution_count": 0,
      "outputs": [
        {
          "output_type": "execute_result",
          "data": {
            "text/plain": [
              "array([[<matplotlib.axes._subplots.AxesSubplot object at 0x7ff1ff8dc7f0>]],\n",
              "      dtype=object)"
            ]
          },
          "metadata": {
            "tags": []
          },
          "execution_count": 16
        },
        {
          "output_type": "display_data",
          "data": {
            "image/png": "[encoded data removed]",
            "text/plain": [
              "<Figure size 432x288 with 1 Axes>"
            ]
          },
          "metadata": {
            "tags": []
          }
        }
      ]
    },
    {
      "cell_type": "code",
      "metadata": {
        "id": "cm4bWzCFz_Ku",
        "colab_type": "code",
        "outputId": "5476b593-f535-4a4c-b546-71f55358a4a0",
        "colab": {
          "base_uri": "https://localhost:8080/",
          "height": 457
        }
      },
      "source": [
        "data2 = pd.DataFrame(data)\n",
        "data2.dropna(how='any', inplace=True)\n",
        "data2.info()"
      ],
      "execution_count": 0,
      "outputs": [
        {
          "output_type": "stream",
          "text": [
            "<class 'pandas.core.frame.DataFrame'>\n",
            "Int64Index: 669 entries, 0 to 955\n",
            "Data columns (total 19 columns):\n",
            "patient_id                          669 non-null int64\n",
            "height                              669 non-null float64\n",
            "weight                              669 non-null float64\n",
            "kidney absortion test               669 non-null int64\n",
            "urea                                669 non-null float64\n",
            "monocytes                           669 non-null float64\n",
            "granulocytes                        669 non-null float64\n",
            "kidney enzyme test                  669 non-null int64\n",
            "eosinophils                         669 non-null float64\n",
            "basophils                           669 non-null float64\n",
            "kidney suffering test               669 non-null int64\n",
            "platelets                           669 non-null float64\n",
            "d_dimer                             669 non-null float64\n",
            "kidney genetic test (gene a3hc)     669 non-null int64\n",
            "kidney genetic test (gene 6a3cp)    669 non-null int64\n",
            "mean_platelet_volume                669 non-null float64\n",
            "leukocytes                          669 non-null float64\n",
            "glucose                             669 non-null float64\n",
            "kidney failure                      669 non-null int64\n",
            "dtypes: float64(12), int64(7)\n",
            "memory usage: 104.5 KB\n"
          ],
          "name": "stdout"
        }
      ]
    },
    {
      "cell_type": "code",
      "metadata": {
        "id": "-LGE1_kZ1y-r",
        "colab_type": "code",
        "outputId": "e397e912-e9d0-46e8-9ae4-463ed3f03652",
        "colab": {
          "base_uri": "https://localhost:8080/",
          "height": 869
        }
      },
      "source": [
        "#HEAT MAP #correlation of parameters \n",
        "import seaborn as sns\n",
        "f,ax=plt.subplots(figsize=(13,13))\n",
        "sns.heatmap(data.corr(),annot=True,fmt=\".2f\",ax=ax,linewidths=0.5,linecolor=\"orange\")\n",
        "plt.xticks(rotation=45)\n",
        "plt.yticks(rotation=45)\n",
        "plt.show()"
      ],
      "execution_count": 0,
      "outputs": [
        {
          "output_type": "display_data",
          "data": {
            "image/png": "[encoded data removed]",
            "text/plain": [
              "<Figure size 936x936 with 2 Axes>"
            ]
          },
          "metadata": {
            "tags": []
          }
        }
      ]
    },
    {
      "cell_type": "code",
      "metadata": {
        "id": "fTfNJQ_i2LpF",
        "colab_type": "code",
        "colab": {}
      },
      "source": [
        ""
      ],
      "execution_count": 0,
      "outputs": []
    },
    {
      "cell_type": "markdown",
      "metadata": {
        "id": "geGK40SFXe9Z",
        "colab_type": "text"
      },
      "source": [
        ""
      ]
    },
    {
      "cell_type": "markdown",
      "metadata": {
        "id": "EdHbdGn03-ih",
        "colab_type": "text"
      },
      "source": [
        "## Most relevant features \n",
        "from above correlation hotmap we can find  5 most relevant features to kidney failure\n",
        "* kidney genetic test (gene a3hc)\n",
        "* kidney genetic test (gene 6a3cp)\n",
        "* kidney suffering test\n",
        "* kidney absortion test\n",
        "* kidney enzyme tes\n",
        "\n",
        "according to the paper we can find,these features make sense.  \n",
        "\n",
        "[kidney failure](fhttps://www.kidney.org/atoz/content/kidneydiscauses)  \n"
      ]
    },
    {
      "cell_type": "markdown",
      "metadata": {
        "id": "wJ5Ql3dzxui2",
        "colab_type": "text"
      },
      "source": [
        "# With 4 most relavant features"
      ]
    },
    {
      "cell_type": "markdown",
      "metadata": {
        "id": "8jU2qSRt6Itj",
        "colab_type": "text"
      },
      "source": [
        "## Feature Selection\n",
        "select above 5 features \n",
        "* kidney genetic test (gene a3hc)\n",
        "* kidney genetic test (gene 6a3cp)\n",
        "* kidney suffering test\n",
        "* kidney absortion test\n",
        "* kidney enzyme tes"
      ]
    },
    {
      "cell_type": "code",
      "metadata": {
        "id": "ZJrz6lLZ54X1",
        "colab_type": "code",
        "outputId": "b2de358a-11df-475f-f279-8911e09bb8c3",
        "colab": {
          "base_uri": "https://localhost:8080/",
          "height": 218
        }
      },
      "source": [
        "data2 = pd.DataFrame(data=data,columns=['kidney genetic test (gene a3hc)',\n",
        "                                        'kidney genetic test (gene 6a3cp)',\n",
        "                                        'kidney suffering test',\n",
        "                                        'kidney absortion test',\n",
        "                                        'kidney enzyme test',\n",
        "                                        'kidney failure',\n",
        "                                        ])\n",
        "data2.info()"
      ],
      "execution_count": 0,
      "outputs": [
        {
          "output_type": "stream",
          "text": [
            "<class 'pandas.core.frame.DataFrame'>\n",
            "RangeIndex: 957 entries, 0 to 956\n",
            "Data columns (total 6 columns):\n",
            "kidney genetic test (gene a3hc)     957 non-null int64\n",
            "kidney genetic test (gene 6a3cp)    957 non-null int64\n",
            "kidney suffering test               957 non-null int64\n",
            "kidney absortion test               957 non-null int64\n",
            "kidney enzyme test                  957 non-null int64\n",
            "kidney failure                      957 non-null int64\n",
            "dtypes: int64(6)\n",
            "memory usage: 45.0 KB\n"
          ],
          "name": "stdout"
        }
      ]
    },
    {
      "cell_type": "code",
      "metadata": {
        "id": "3lUcgNp5XIAY",
        "colab_type": "code",
        "outputId": "40604227-a459-432b-8244-e96fa624584e",
        "colab": {
          "base_uri": "https://localhost:8080/",
          "height": 206
        }
      },
      "source": [
        "data2.head()"
      ],
      "execution_count": 0,
      "outputs": [
        {
          "output_type": "execute_result",
          "data": {
            "text/html": [
              "<div>\n",
              "<style scoped>\n",
              "    .dataframe tbody tr th:only-of-type {\n",
              "        vertical-align: middle;\n",
              "    }\n",
              "\n",
              "    .dataframe tbody tr th {\n",
              "        vertical-align: top;\n",
              "    }\n",
              "\n",
              "    .dataframe thead th {\n",
              "        text-align: right;\n",
              "    }\n",
              "</style>\n",
              "<table border=\"1\" class=\"dataframe\">\n",
              "  <thead>\n",
              "    <tr style=\"text-align: right;\">\n",
              "      <th></th>\n",
              "      <th>kidney genetic test (gene a3hc)</th>\n",
              "      <th>kidney genetic test (gene 6a3cp)</th>\n",
              "      <th>kidney suffering test</th>\n",
              "      <th>kidney absortion test</th>\n",
              "      <th>kidney enzyme test</th>\n",
              "      <th>kidney failure</th>\n",
              "    </tr>\n",
              "  </thead>\n",
              "  <tbody>\n",
              "    <tr>\n",
              "      <th>0</th>\n",
              "      <td>0</td>\n",
              "      <td>0</td>\n",
              "      <td>1</td>\n",
              "      <td>0</td>\n",
              "      <td>0</td>\n",
              "      <td>0</td>\n",
              "    </tr>\n",
              "    <tr>\n",
              "      <th>1</th>\n",
              "      <td>0</td>\n",
              "      <td>0</td>\n",
              "      <td>0</td>\n",
              "      <td>0</td>\n",
              "      <td>0</td>\n",
              "      <td>1</td>\n",
              "    </tr>\n",
              "    <tr>\n",
              "      <th>2</th>\n",
              "      <td>0</td>\n",
              "      <td>0</td>\n",
              "      <td>0</td>\n",
              "      <td>0</td>\n",
              "      <td>0</td>\n",
              "      <td>1</td>\n",
              "    </tr>\n",
              "    <tr>\n",
              "      <th>3</th>\n",
              "      <td>0</td>\n",
              "      <td>0</td>\n",
              "      <td>0</td>\n",
              "      <td>0</td>\n",
              "      <td>1</td>\n",
              "      <td>0</td>\n",
              "    </tr>\n",
              "    <tr>\n",
              "      <th>4</th>\n",
              "      <td>0</td>\n",
              "      <td>1</td>\n",
              "      <td>0</td>\n",
              "      <td>0</td>\n",
              "      <td>0</td>\n",
              "      <td>0</td>\n",
              "    </tr>\n",
              "  </tbody>\n",
              "</table>\n",
              "</div>"
            ],
            "text/plain": [
              "   kidney genetic test (gene a3hc)  ...  kidney failure\n",
              "0                                0  ...               0\n",
              "1                                0  ...               1\n",
              "2                                0  ...               1\n",
              "3                                0  ...               0\n",
              "4                                0  ...               0\n",
              "\n",
              "[5 rows x 6 columns]"
            ]
          },
          "metadata": {
            "tags": []
          },
          "execution_count": 20
        }
      ]
    },
    {
      "cell_type": "code",
      "metadata": {
        "id": "WNFT4rM_VIa8",
        "colab_type": "code",
        "outputId": "ca588c54-b0bc-4743-85ce-e1d55fb35f31",
        "colab": {
          "base_uri": "https://localhost:8080/",
          "height": 206
        }
      },
      "source": [
        "data2.tail()"
      ],
      "execution_count": 0,
      "outputs": [
        {
          "output_type": "execute_result",
          "data": {
            "text/html": [
              "<div>\n",
              "<style scoped>\n",
              "    .dataframe tbody tr th:only-of-type {\n",
              "        vertical-align: middle;\n",
              "    }\n",
              "\n",
              "    .dataframe tbody tr th {\n",
              "        vertical-align: top;\n",
              "    }\n",
              "\n",
              "    .dataframe thead th {\n",
              "        text-align: right;\n",
              "    }\n",
              "</style>\n",
              "<table border=\"1\" class=\"dataframe\">\n",
              "  <thead>\n",
              "    <tr style=\"text-align: right;\">\n",
              "      <th></th>\n",
              "      <th>kidney genetic test (gene a3hc)</th>\n",
              "      <th>kidney genetic test (gene 6a3cp)</th>\n",
              "      <th>kidney suffering test</th>\n",
              "      <th>kidney absortion test</th>\n",
              "      <th>kidney enzyme test</th>\n",
              "      <th>kidney failure</th>\n",
              "    </tr>\n",
              "  </thead>\n",
              "  <tbody>\n",
              "    <tr>\n",
              "      <th>952</th>\n",
              "      <td>0</td>\n",
              "      <td>0</td>\n",
              "      <td>1</td>\n",
              "      <td>0</td>\n",
              "      <td>0</td>\n",
              "      <td>0</td>\n",
              "    </tr>\n",
              "    <tr>\n",
              "      <th>953</th>\n",
              "      <td>0</td>\n",
              "      <td>1</td>\n",
              "      <td>0</td>\n",
              "      <td>0</td>\n",
              "      <td>0</td>\n",
              "      <td>0</td>\n",
              "    </tr>\n",
              "    <tr>\n",
              "      <th>954</th>\n",
              "      <td>0</td>\n",
              "      <td>0</td>\n",
              "      <td>0</td>\n",
              "      <td>0</td>\n",
              "      <td>0</td>\n",
              "      <td>1</td>\n",
              "    </tr>\n",
              "    <tr>\n",
              "      <th>955</th>\n",
              "      <td>0</td>\n",
              "      <td>0</td>\n",
              "      <td>0</td>\n",
              "      <td>0</td>\n",
              "      <td>0</td>\n",
              "      <td>1</td>\n",
              "    </tr>\n",
              "    <tr>\n",
              "      <th>956</th>\n",
              "      <td>0</td>\n",
              "      <td>0</td>\n",
              "      <td>0</td>\n",
              "      <td>0</td>\n",
              "      <td>0</td>\n",
              "      <td>1</td>\n",
              "    </tr>\n",
              "  </tbody>\n",
              "</table>\n",
              "</div>"
            ],
            "text/plain": [
              "     kidney genetic test (gene a3hc)  ...  kidney failure\n",
              "952                                0  ...               0\n",
              "953                                0  ...               0\n",
              "954                                0  ...               1\n",
              "955                                0  ...               1\n",
              "956                                0  ...               1\n",
              "\n",
              "[5 rows x 6 columns]"
            ]
          },
          "metadata": {
            "tags": []
          },
          "execution_count": 21
        }
      ]
    },
    {
      "cell_type": "markdown",
      "metadata": {
        "id": "CLJDPr_7VHXH",
        "colab_type": "text"
      },
      "source": [
        ""
      ]
    },
    {
      "cell_type": "markdown",
      "metadata": {
        "id": "YiGCxWkI8q8Y",
        "colab_type": "text"
      },
      "source": [
        "## Data clearing\n",
        "\n",
        "There is not necessary to clear data.Considering there is no data missing and null value."
      ]
    },
    {
      "cell_type": "code",
      "metadata": {
        "id": "D2G_Cd0V_QvX",
        "colab_type": "code",
        "outputId": "ea0f6859-a83f-4911-d627-23a6cde5cdf9",
        "colab": {
          "base_uri": "https://localhost:8080/",
          "height": 283
        }
      },
      "source": [
        "data2['kidney failure'].hist()"
      ],
      "execution_count": 0,
      "outputs": [
        {
          "output_type": "execute_result",
          "data": {
            "text/plain": [
              "<matplotlib.axes._subplots.AxesSubplot at 0x7ff1ff86cdd8>"
            ]
          },
          "metadata": {
            "tags": []
          },
          "execution_count": 22
        },
        {
          "output_type": "display_data",
          "data": {
            "image/png": "[encoded data removed]",
            "text/plain": [
              "<Figure size 432x288 with 1 Axes>"
            ]
          },
          "metadata": {
            "tags": []
          }
        }
      ]
    },
    {
      "cell_type": "markdown",
      "metadata": {
        "id": "5qVLbamR8-2Y",
        "colab_type": "text"
      },
      "source": [
        "## Modeling"
      ]
    },
    {
      "cell_type": "code",
      "metadata": {
        "id": "JN3Pb4Q39Mzp",
        "colab_type": "code",
        "outputId": "7c69bf56-55e8-4c56-e4af-614be4626e96",
        "colab": {
          "base_uri": "https://localhost:8080/",
          "height": 581
        }
      },
      "source": [
        "import numpy as np\n",
        "from tensorflow import keras\n",
        "data_set = data2.values\n",
        "print(data_set.shape)\n",
        "print(data_set[0:5])\n",
        "data2.head(200)"
      ],
      "execution_count": 0,
      "outputs": [
        {
          "output_type": "display_data",
          "data": {
            "text/html": [
              "<p style=\"color: red;\">\n",
              "The default version of TensorFlow in Colab will soon switch to TensorFlow 2.x.<br>\n",
              "We recommend you <a href=\"https://www.tensorflow.org/guide/migrate\" target=\"_blank\">upgrade</a> now \n",
              "or ensure your notebook will continue to use TensorFlow 1.x via the <code>%tensorflow_version 1.x</code> magic:\n",
              "<a href=\"https://colab.research.google.com/notebooks/tensorflow_version.ipynb\" target=\"_blank\">more info</a>.</p>\n"
            ],
            "text/plain": [
              "<IPython.core.display.HTML object>"
            ]
          },
          "metadata": {
            "tags": []
          }
        },
        {
          "output_type": "stream",
          "text": [
            "(957, 6)\n",
            "[[0 0 1 0 0 0]\n",
            " [0 0 0 0 0 1]\n",
            " [0 0 0 0 0 1]\n",
            " [0 0 0 0 1 0]\n",
            " [0 1 0 0 0 0]]\n"
          ],
          "name": "stdout"
        },
        {
          "output_type": "execute_result",
          "data": {
            "text/html": [
              "<div>\n",
              "<style scoped>\n",
              "    .dataframe tbody tr th:only-of-type {\n",
              "        vertical-align: middle;\n",
              "    }\n",
              "\n",
              "    .dataframe tbody tr th {\n",
              "        vertical-align: top;\n",
              "    }\n",
              "\n",
              "    .dataframe thead th {\n",
              "        text-align: right;\n",
              "    }\n",
              "</style>\n",
              "<table border=\"1\" class=\"dataframe\">\n",
              "  <thead>\n",
              "    <tr style=\"text-align: right;\">\n",
              "      <th></th>\n",
              "      <th>kidney genetic test (gene a3hc)</th>\n",
              "      <th>kidney genetic test (gene 6a3cp)</th>\n",
              "      <th>kidney suffering test</th>\n",
              "      <th>kidney absortion test</th>\n",
              "      <th>kidney enzyme test</th>\n",
              "      <th>kidney failure</th>\n",
              "    </tr>\n",
              "  </thead>\n",
              "  <tbody>\n",
              "    <tr>\n",
              "      <th>0</th>\n",
              "      <td>0</td>\n",
              "      <td>0</td>\n",
              "      <td>1</td>\n",
              "      <td>0</td>\n",
              "      <td>0</td>\n",
              "      <td>0</td>\n",
              "    </tr>\n",
              "    <tr>\n",
              "      <th>1</th>\n",
              "      <td>0</td>\n",
              "      <td>0</td>\n",
              "      <td>0</td>\n",
              "      <td>0</td>\n",
              "      <td>0</td>\n",
              "      <td>1</td>\n",
              "    </tr>\n",
              "    <tr>\n",
              "      <th>2</th>\n",
              "      <td>0</td>\n",
              "      <td>0</td>\n",
              "      <td>0</td>\n",
              "      <td>0</td>\n",
              "      <td>0</td>\n",
              "      <td>1</td>\n",
              "    </tr>\n",
              "    <tr>\n",
              "      <th>3</th>\n",
              "      <td>0</td>\n",
              "      <td>0</td>\n",
              "      <td>0</td>\n",
              "      <td>0</td>\n",
              "      <td>1</td>\n",
              "      <td>0</td>\n",
              "    </tr>\n",
              "    <tr>\n",
              "      <th>4</th>\n",
              "      <td>0</td>\n",
              "      <td>1</td>\n",
              "      <td>0</td>\n",
              "      <td>0</td>\n",
              "      <td>0</td>\n",
              "      <td>0</td>\n",
              "    </tr>\n",
              "    <tr>\n",
              "      <th>...</th>\n",
              "      <td>...</td>\n",
              "      <td>...</td>\n",
              "      <td>...</td>\n",
              "      <td>...</td>\n",
              "      <td>...</td>\n",
              "      <td>...</td>\n",
              "    </tr>\n",
              "    <tr>\n",
              "      <th>195</th>\n",
              "      <td>0</td>\n",
              "      <td>0</td>\n",
              "      <td>0</td>\n",
              "      <td>0</td>\n",
              "      <td>0</td>\n",
              "      <td>1</td>\n",
              "    </tr>\n",
              "    <tr>\n",
              "      <th>196</th>\n",
              "      <td>0</td>\n",
              "      <td>0</td>\n",
              "      <td>0</td>\n",
              "      <td>0</td>\n",
              "      <td>0</td>\n",
              "      <td>1</td>\n",
              "    </tr>\n",
              "    <tr>\n",
              "      <th>197</th>\n",
              "      <td>0</td>\n",
              "      <td>0</td>\n",
              "      <td>0</td>\n",
              "      <td>0</td>\n",
              "      <td>0</td>\n",
              "      <td>1</td>\n",
              "    </tr>\n",
              "    <tr>\n",
              "      <th>198</th>\n",
              "      <td>0</td>\n",
              "      <td>0</td>\n",
              "      <td>0</td>\n",
              "      <td>0</td>\n",
              "      <td>1</td>\n",
              "      <td>0</td>\n",
              "    </tr>\n",
              "    <tr>\n",
              "      <th>199</th>\n",
              "      <td>0</td>\n",
              "      <td>0</td>\n",
              "      <td>0</td>\n",
              "      <td>0</td>\n",
              "      <td>0</td>\n",
              "      <td>1</td>\n",
              "    </tr>\n",
              "  </tbody>\n",
              "</table>\n",
              "<p>200 rows × 6 columns</p>\n",
              "</div>"
            ],
            "text/plain": [
              "     kidney genetic test (gene a3hc)  ...  kidney failure\n",
              "0                                  0  ...               0\n",
              "1                                  0  ...               1\n",
              "2                                  0  ...               1\n",
              "3                                  0  ...               0\n",
              "4                                  0  ...               0\n",
              "..                               ...  ...             ...\n",
              "195                                0  ...               1\n",
              "196                                0  ...               1\n",
              "197                                0  ...               1\n",
              "198                                0  ...               0\n",
              "199                                0  ...               1\n",
              "\n",
              "[200 rows x 6 columns]"
            ]
          },
          "metadata": {
            "tags": []
          },
          "execution_count": 23
        }
      ]
    },
    {
      "cell_type": "markdown",
      "metadata": {
        "id": "k2zKaJCD_BOd",
        "colab_type": "text"
      },
      "source": [
        "## split train and test dataset"
      ]
    },
    {
      "cell_type": "code",
      "metadata": {
        "id": "OT8VNHFC_Gwh",
        "colab_type": "code",
        "colab": {}
      },
      "source": [
        "from sklearn.model_selection import train_test_split\n",
        "from sklearn.metrics import precision_recall_curve  \n",
        "from sklearn.metrics import classification_report \n",
        "np.random.shuffle(data_set)\n",
        "x = data_set[:,np.arange(0,5)]\n",
        "y = data_set[:,5]\n",
        "x_train, x_test, y_train, y_test = train_test_split(x, y, test_size = 0.3)"
      ],
      "execution_count": 0,
      "outputs": []
    },
    {
      "cell_type": "markdown",
      "metadata": {
        "id": "dD0UHgtC7xd-",
        "colab_type": "text"
      },
      "source": [
        "## Build decision tree"
      ]
    },
    {
      "cell_type": "code",
      "metadata": {
        "id": "N1wkTtyBCEvU",
        "colab_type": "code",
        "outputId": "1f297d78-e8a5-4c4d-b621-984307ccdef4",
        "colab": {
          "base_uri": "https://localhost:8080/",
          "height": 237
        }
      },
      "source": [
        "from sklearn import tree\n",
        "\n",
        "model = tree.DecisionTreeClassifier(criterion='entropy',random_state=0, max_depth=5)\n",
        "print(model)     \n",
        "model.fit(x_train, y_train)"
      ],
      "execution_count": 0,
      "outputs": [
        {
          "output_type": "stream",
          "text": [
            "DecisionTreeClassifier(ccp_alpha=0.0, class_weight=None, criterion='entropy',\n",
            "                       max_depth=5, max_features=None, max_leaf_nodes=None,\n",
            "                       min_impurity_decrease=0.0, min_impurity_split=None,\n",
            "                       min_samples_leaf=1, min_samples_split=2,\n",
            "                       min_weight_fraction_leaf=0.0, presort='deprecated',\n",
            "                       random_state=0, splitter='best')\n"
          ],
          "name": "stdout"
        },
        {
          "output_type": "execute_result",
          "data": {
            "text/plain": [
              "DecisionTreeClassifier(ccp_alpha=0.0, class_weight=None, criterion='entropy',\n",
              "                       max_depth=5, max_features=None, max_leaf_nodes=None,\n",
              "                       min_impurity_decrease=0.0, min_impurity_split=None,\n",
              "                       min_samples_leaf=1, min_samples_split=2,\n",
              "                       min_weight_fraction_leaf=0.0, presort='deprecated',\n",
              "                       random_state=0, splitter='best')"
            ]
          },
          "metadata": {
            "tags": []
          },
          "execution_count": 25
        }
      ]
    },
    {
      "cell_type": "code",
      "metadata": {
        "id": "Fl0S9MLKFMIb",
        "colab_type": "code",
        "outputId": "a7ec74b6-2e6b-4285-8346-68c8f4886afc",
        "colab": {
          "base_uri": "https://localhost:8080/",
          "height": 35
        }
      },
      "source": [
        "print(model.feature_importances_)  "
      ],
      "execution_count": 0,
      "outputs": [
        {
          "output_type": "stream",
          "text": [
            "[0.12850583 0.2060804  0.15722037 0.17032282 0.33787059]\n"
          ],
          "name": "stdout"
        }
      ]
    },
    {
      "cell_type": "code",
      "metadata": {
        "id": "5K3rkycgFY__",
        "colab_type": "code",
        "outputId": "f19819e0-c241-429a-b446-88b3abe4f1a1",
        "colab": {
          "base_uri": "https://localhost:8080/",
          "height": 449
        }
      },
      "source": [
        "tree.plot_tree(model)"
      ],
      "execution_count": 0,
      "outputs": [
        {
          "output_type": "execute_result",
          "data": {
            "text/plain": [
              "[Text(251.10000000000002, 199.32, 'X[4] <= 0.5\\nentropy = 0.999\\nsamples = 669\\nvalue = [349, 320]'),\n",
              " Text(209.25, 163.07999999999998, 'X[1] <= 0.5\\nentropy = 0.92\\nsamples = 481\\nvalue = [161, 320]'),\n",
              " Text(167.4, 126.83999999999999, 'X[2] <= 0.5\\nentropy = 0.749\\nsamples = 407\\nvalue = [87, 320]'),\n",
              " Text(125.55000000000001, 90.6, 'X[0] <= 0.5\\nentropy = 0.545\\nsamples = 366\\nvalue = [46, 320]'),\n",
              " Text(83.7, 54.359999999999985, 'X[3] <= 0.5\\nentropy = 0.334\\nsamples = 341\\nvalue = [21, 320]'),\n",
              " Text(41.85, 18.119999999999976, 'entropy = 0.0\\nsamples = 320\\nvalue = [0, 320]'),\n",
              " Text(125.55000000000001, 18.119999999999976, 'entropy = 0.0\\nsamples = 21\\nvalue = [21, 0]'),\n",
              " Text(167.4, 54.359999999999985, 'entropy = 0.0\\nsamples = 25\\nvalue = [25, 0]'),\n",
              " Text(209.25, 90.6, 'entropy = 0.0\\nsamples = 41\\nvalue = [41, 0]'),\n",
              " Text(251.10000000000002, 126.83999999999999, 'entropy = 0.0\\nsamples = 74\\nvalue = [74, 0]'),\n",
              " Text(292.95, 163.07999999999998, 'entropy = 0.0\\nsamples = 188\\nvalue = [188, 0]')]"
            ]
          },
          "metadata": {
            "tags": []
          },
          "execution_count": 27
        },
        {
          "output_type": "display_data",
          "data": {
            "image/png": "[encoded data removed]",
            "text/plain": [
              "<Figure size 432x288 with 1 Axes>"
            ]
          },
          "metadata": {
            "tags": []
          }
        }
      ]
    },
    {
      "cell_type": "code",
      "metadata": {
        "id": "DAEeJD8DOGYD",
        "colab_type": "code",
        "outputId": "bc9a1fbd-0e0b-456f-a497-f8dda0e2e5dd",
        "colab": {
          "base_uri": "https://localhost:8080/",
          "height": 35
        }
      },
      "source": [
        "x_train.shape"
      ],
      "execution_count": 0,
      "outputs": [
        {
          "output_type": "execute_result",
          "data": {
            "text/plain": [
              "(669, 5)"
            ]
          },
          "metadata": {
            "tags": []
          },
          "execution_count": 28
        }
      ]
    },
    {
      "cell_type": "markdown",
      "metadata": {
        "id": "3z6XxFiJX4Hl",
        "colab_type": "text"
      },
      "source": [
        "## Evaluate Model\n"
      ]
    },
    {
      "cell_type": "markdown",
      "metadata": {
        "id": "ld5ZlEx0X_J9",
        "colab_type": "text"
      },
      "source": [
        "### average accuracy"
      ]
    },
    {
      "cell_type": "code",
      "metadata": {
        "id": "Fjd22TyfGv5Q",
        "colab_type": "code",
        "outputId": "8abbdfa1-f139-413b-9f0c-1e4a1f4c780d",
        "colab": {
          "base_uri": "https://localhost:8080/",
          "height": 35
        }
      },
      "source": [
        "model.score(x_test,y_test)"
      ],
      "execution_count": 0,
      "outputs": [
        {
          "output_type": "execute_result",
          "data": {
            "text/plain": [
              "1.0"
            ]
          },
          "metadata": {
            "tags": []
          },
          "execution_count": 29
        }
      ]
    },
    {
      "cell_type": "markdown",
      "metadata": {
        "id": "7FHMlqPKYFSQ",
        "colab_type": "text"
      },
      "source": [
        "### Confusion Matrix"
      ]
    },
    {
      "cell_type": "code",
      "metadata": {
        "id": "phno4IlZLF8T",
        "colab_type": "code",
        "colab": {}
      },
      "source": [
        "def plot_confusion_matrix(cm, labels_name, title):\n",
        "    cm = cm.astype('float') / cm.sum(axis=1)[:, np.newaxis]    # 归一化\n",
        "    plt.imshow(cm, interpolation='nearest')    # 在特定的窗口上显示图像\n",
        "    plt.title(title)    # 图像标题\n",
        "    plt.colorbar()\n",
        "    num_local = np.array(range(len(labels_name)))    \n",
        "    plt.xticks(num_local, labels_name, rotation=90)    # 将标签印在x轴坐标上\n",
        "    plt.yticks(num_local, labels_name)    # 将标签印在y轴坐标上\n",
        "    plt.ylabel('True label')    \n",
        "    plt.xlabel('Predicted label')\n"
      ],
      "execution_count": 0,
      "outputs": []
    },
    {
      "cell_type": "code",
      "metadata": {
        "id": "7HIahUpTH75s",
        "colab_type": "code",
        "outputId": "e2331d77-3dc0-41b8-88d0-095e2cccab9f",
        "colab": {
          "base_uri": "https://localhost:8080/",
          "height": 35
        }
      },
      "source": [
        "from sklearn.metrics import precision_recall_curve\n",
        "\n",
        "precision_recall_curve(y_true=y_test,probas_pred=model.predict(x_test))\n"
      ],
      "execution_count": 0,
      "outputs": [
        {
          "output_type": "execute_result",
          "data": {
            "text/plain": [
              "(array([1., 1.]), array([1., 0.]), array([1]))"
            ]
          },
          "metadata": {
            "tags": []
          },
          "execution_count": 31
        }
      ]
    },
    {
      "cell_type": "code",
      "metadata": {
        "id": "qa0H_etCJu1l",
        "colab_type": "code",
        "outputId": "ec013458-c948-4043-da13-60ba3b00bd2a",
        "colab": {
          "base_uri": "https://localhost:8080/",
          "height": 369
        }
      },
      "source": [
        "from sklearn.metrics import confusion_matrix\n",
        "cm = confusion_matrix(y_true=y_test,y_pred=model.predict(x_test))\n",
        "plot_confusion_matrix(cm,['kidney failure(Y)','kidney failure(N)'],'kidney failure')\n"
      ],
      "execution_count": 0,
      "outputs": [
        {
          "output_type": "display_data",
          "data": {
            "image/png": "[encoded data removed]",
            "text/plain": [
              "<Figure size 432x288 with 2 Axes>"
            ]
          },
          "metadata": {
            "tags": []
          }
        }
      ]
    },
    {
      "cell_type": "markdown",
      "metadata": {
        "id": "IfncpzkzYPKA",
        "colab_type": "text"
      },
      "source": [
        "## Conclusion and Question :  \n",
        "why the model performs so perfect?  \n",
        "there is only a combine logic between input features and output?  \n",
        "(Notice that the input features and label are binary)  \n",
        "\n",
        "**out = -(c1||c2||c3||c4||c5)**"
      ]
    },
    {
      "cell_type": "markdown",
      "metadata": {
        "id": "SEpaiWmWfsOm",
        "colab_type": "text"
      },
      "source": [
        "#### for kidney failure is 1  \n",
        "all 5 input features are 0"
      ]
    },
    {
      "cell_type": "code",
      "metadata": {
        "id": "K5QIiOxeczFP",
        "colab_type": "code",
        "outputId": "c771475a-ed95-45a7-bf4e-0e4e624a264b",
        "colab": {
          "base_uri": "https://localhost:8080/",
          "height": 206
        }
      },
      "source": [
        "test = data2[data2['kidney failure'] == 1]\n",
        "test.head()"
      ],
      "execution_count": 0,
      "outputs": [
        {
          "output_type": "execute_result",
          "data": {
            "text/html": [
              "<div>\n",
              "<style scoped>\n",
              "    .dataframe tbody tr th:only-of-type {\n",
              "        vertical-align: middle;\n",
              "    }\n",
              "\n",
              "    .dataframe tbody tr th {\n",
              "        vertical-align: top;\n",
              "    }\n",
              "\n",
              "    .dataframe thead th {\n",
              "        text-align: right;\n",
              "    }\n",
              "</style>\n",
              "<table border=\"1\" class=\"dataframe\">\n",
              "  <thead>\n",
              "    <tr style=\"text-align: right;\">\n",
              "      <th></th>\n",
              "      <th>kidney genetic test (gene a3hc)</th>\n",
              "      <th>kidney genetic test (gene 6a3cp)</th>\n",
              "      <th>kidney suffering test</th>\n",
              "      <th>kidney absortion test</th>\n",
              "      <th>kidney enzyme test</th>\n",
              "      <th>kidney failure</th>\n",
              "    </tr>\n",
              "  </thead>\n",
              "  <tbody>\n",
              "    <tr>\n",
              "      <th>0</th>\n",
              "      <td>0</td>\n",
              "      <td>0</td>\n",
              "      <td>0</td>\n",
              "      <td>0</td>\n",
              "      <td>0</td>\n",
              "      <td>1</td>\n",
              "    </tr>\n",
              "    <tr>\n",
              "      <th>2</th>\n",
              "      <td>0</td>\n",
              "      <td>0</td>\n",
              "      <td>0</td>\n",
              "      <td>0</td>\n",
              "      <td>0</td>\n",
              "      <td>1</td>\n",
              "    </tr>\n",
              "    <tr>\n",
              "      <th>4</th>\n",
              "      <td>0</td>\n",
              "      <td>0</td>\n",
              "      <td>0</td>\n",
              "      <td>0</td>\n",
              "      <td>0</td>\n",
              "      <td>1</td>\n",
              "    </tr>\n",
              "    <tr>\n",
              "      <th>5</th>\n",
              "      <td>0</td>\n",
              "      <td>0</td>\n",
              "      <td>0</td>\n",
              "      <td>0</td>\n",
              "      <td>0</td>\n",
              "      <td>1</td>\n",
              "    </tr>\n",
              "    <tr>\n",
              "      <th>7</th>\n",
              "      <td>0</td>\n",
              "      <td>0</td>\n",
              "      <td>0</td>\n",
              "      <td>0</td>\n",
              "      <td>0</td>\n",
              "      <td>1</td>\n",
              "    </tr>\n",
              "  </tbody>\n",
              "</table>\n",
              "</div>"
            ],
            "text/plain": [
              "   kidney genetic test (gene a3hc)  ...  kidney failure\n",
              "0                                0  ...               1\n",
              "2                                0  ...               1\n",
              "4                                0  ...               1\n",
              "5                                0  ...               1\n",
              "7                                0  ...               1\n",
              "\n",
              "[5 rows x 6 columns]"
            ]
          },
          "metadata": {
            "tags": []
          },
          "execution_count": 33
        }
      ]
    },
    {
      "cell_type": "code",
      "metadata": {
        "id": "sD0_khAbd3BP",
        "colab_type": "code",
        "outputId": "a9fe15a3-fe70-47e9-d9e2-bb6ec51ef1c2",
        "colab": {
          "base_uri": "https://localhost:8080/",
          "height": 49
        }
      },
      "source": [
        "t2 =test[test['kidney genetic test (gene 6a3cp)']==1]\n",
        "t2.head()"
      ],
      "execution_count": 0,
      "outputs": [
        {
          "output_type": "execute_result",
          "data": {
            "text/html": [
              "<div>\n",
              "<style scoped>\n",
              "    .dataframe tbody tr th:only-of-type {\n",
              "        vertical-align: middle;\n",
              "    }\n",
              "\n",
              "    .dataframe tbody tr th {\n",
              "        vertical-align: top;\n",
              "    }\n",
              "\n",
              "    .dataframe thead th {\n",
              "        text-align: right;\n",
              "    }\n",
              "</style>\n",
              "<table border=\"1\" class=\"dataframe\">\n",
              "  <thead>\n",
              "    <tr style=\"text-align: right;\">\n",
              "      <th></th>\n",
              "      <th>kidney genetic test (gene a3hc)</th>\n",
              "      <th>kidney genetic test (gene 6a3cp)</th>\n",
              "      <th>kidney suffering test</th>\n",
              "      <th>kidney absortion test</th>\n",
              "      <th>kidney enzyme test</th>\n",
              "      <th>kidney failure</th>\n",
              "    </tr>\n",
              "  </thead>\n",
              "  <tbody>\n",
              "  </tbody>\n",
              "</table>\n",
              "</div>"
            ],
            "text/plain": [
              "Empty DataFrame\n",
              "Columns: [kidney genetic test (gene a3hc), kidney genetic test (gene 6a3cp), kidney suffering test, kidney absortion test, kidney enzyme test, kidney failure]\n",
              "Index: []"
            ]
          },
          "metadata": {
            "tags": []
          },
          "execution_count": 34
        }
      ]
    },
    {
      "cell_type": "code",
      "metadata": {
        "id": "aQcGltf0eWGB",
        "colab_type": "code",
        "outputId": "972cc575-ad6b-4e87-edab-86b14d2fe023",
        "colab": {
          "base_uri": "https://localhost:8080/",
          "height": 49
        }
      },
      "source": [
        "t2 =test[test['kidney absortion test']==1]\n",
        "t2.head()"
      ],
      "execution_count": 0,
      "outputs": [
        {
          "output_type": "execute_result",
          "data": {
            "text/html": [
              "<div>\n",
              "<style scoped>\n",
              "    .dataframe tbody tr th:only-of-type {\n",
              "        vertical-align: middle;\n",
              "    }\n",
              "\n",
              "    .dataframe tbody tr th {\n",
              "        vertical-align: top;\n",
              "    }\n",
              "\n",
              "    .dataframe thead th {\n",
              "        text-align: right;\n",
              "    }\n",
              "</style>\n",
              "<table border=\"1\" class=\"dataframe\">\n",
              "  <thead>\n",
              "    <tr style=\"text-align: right;\">\n",
              "      <th></th>\n",
              "      <th>kidney genetic test (gene a3hc)</th>\n",
              "      <th>kidney genetic test (gene 6a3cp)</th>\n",
              "      <th>kidney suffering test</th>\n",
              "      <th>kidney absortion test</th>\n",
              "      <th>kidney enzyme test</th>\n",
              "      <th>kidney failure</th>\n",
              "    </tr>\n",
              "  </thead>\n",
              "  <tbody>\n",
              "  </tbody>\n",
              "</table>\n",
              "</div>"
            ],
            "text/plain": [
              "Empty DataFrame\n",
              "Columns: [kidney genetic test (gene a3hc), kidney genetic test (gene 6a3cp), kidney suffering test, kidney absortion test, kidney enzyme test, kidney failure]\n",
              "Index: []"
            ]
          },
          "metadata": {
            "tags": []
          },
          "execution_count": 35
        }
      ]
    },
    {
      "cell_type": "code",
      "metadata": {
        "id": "CjkHUfQOeD2j",
        "colab_type": "code",
        "outputId": "72eb685a-12b9-4d9e-ba48-c60761d05851",
        "colab": {
          "base_uri": "https://localhost:8080/",
          "height": 49
        }
      },
      "source": [
        "t2 =test[test['kidney genetic test (gene a3hc)']==1]\n",
        "t2.head()"
      ],
      "execution_count": 0,
      "outputs": [
        {
          "output_type": "execute_result",
          "data": {
            "text/html": [
              "<div>\n",
              "<style scoped>\n",
              "    .dataframe tbody tr th:only-of-type {\n",
              "        vertical-align: middle;\n",
              "    }\n",
              "\n",
              "    .dataframe tbody tr th {\n",
              "        vertical-align: top;\n",
              "    }\n",
              "\n",
              "    .dataframe thead th {\n",
              "        text-align: right;\n",
              "    }\n",
              "</style>\n",
              "<table border=\"1\" class=\"dataframe\">\n",
              "  <thead>\n",
              "    <tr style=\"text-align: right;\">\n",
              "      <th></th>\n",
              "      <th>kidney genetic test (gene a3hc)</th>\n",
              "      <th>kidney genetic test (gene 6a3cp)</th>\n",
              "      <th>kidney suffering test</th>\n",
              "      <th>kidney absortion test</th>\n",
              "      <th>kidney enzyme test</th>\n",
              "      <th>kidney failure</th>\n",
              "    </tr>\n",
              "  </thead>\n",
              "  <tbody>\n",
              "  </tbody>\n",
              "</table>\n",
              "</div>"
            ],
            "text/plain": [
              "Empty DataFrame\n",
              "Columns: [kidney genetic test (gene a3hc), kidney genetic test (gene 6a3cp), kidney suffering test, kidney absortion test, kidney enzyme test, kidney failure]\n",
              "Index: []"
            ]
          },
          "metadata": {
            "tags": []
          },
          "execution_count": 36
        }
      ]
    },
    {
      "cell_type": "code",
      "metadata": {
        "id": "mcOmTzeqdfGE",
        "colab_type": "code",
        "outputId": "eb2be849-1fab-4059-f630-d75967284437",
        "colab": {
          "base_uri": "https://localhost:8080/",
          "height": 49
        }
      },
      "source": [
        "t2 =test[test['kidney enzyme test']==1]\n",
        "t2.head()"
      ],
      "execution_count": 0,
      "outputs": [
        {
          "output_type": "execute_result",
          "data": {
            "text/html": [
              "<div>\n",
              "<style scoped>\n",
              "    .dataframe tbody tr th:only-of-type {\n",
              "        vertical-align: middle;\n",
              "    }\n",
              "\n",
              "    .dataframe tbody tr th {\n",
              "        vertical-align: top;\n",
              "    }\n",
              "\n",
              "    .dataframe thead th {\n",
              "        text-align: right;\n",
              "    }\n",
              "</style>\n",
              "<table border=\"1\" class=\"dataframe\">\n",
              "  <thead>\n",
              "    <tr style=\"text-align: right;\">\n",
              "      <th></th>\n",
              "      <th>kidney genetic test (gene a3hc)</th>\n",
              "      <th>kidney genetic test (gene 6a3cp)</th>\n",
              "      <th>kidney suffering test</th>\n",
              "      <th>kidney absortion test</th>\n",
              "      <th>kidney enzyme test</th>\n",
              "      <th>kidney failure</th>\n",
              "    </tr>\n",
              "  </thead>\n",
              "  <tbody>\n",
              "  </tbody>\n",
              "</table>\n",
              "</div>"
            ],
            "text/plain": [
              "Empty DataFrame\n",
              "Columns: [kidney genetic test (gene a3hc), kidney genetic test (gene 6a3cp), kidney suffering test, kidney absortion test, kidney enzyme test, kidney failure]\n",
              "Index: []"
            ]
          },
          "metadata": {
            "tags": []
          },
          "execution_count": 37
        }
      ]
    },
    {
      "cell_type": "code",
      "metadata": {
        "id": "beJisa9wd2dZ",
        "colab_type": "code",
        "outputId": "bf3f4057-68bc-4f42-8385-036a05bc6eba",
        "colab": {
          "base_uri": "https://localhost:8080/",
          "height": 85
        }
      },
      "source": [
        "t2 =test[test['kidney suffering test']==1]\n",
        "t2.head()"
      ],
      "execution_count": 0,
      "outputs": [
        {
          "output_type": "execute_result",
          "data": {
            "text/html": [
              "<div>\n",
              "<style scoped>\n",
              "    .dataframe tbody tr th:only-of-type {\n",
              "        vertical-align: middle;\n",
              "    }\n",
              "\n",
              "    .dataframe tbody tr th {\n",
              "        vertical-align: top;\n",
              "    }\n",
              "\n",
              "    .dataframe thead th {\n",
              "        text-align: right;\n",
              "    }\n",
              "</style>\n",
              "<table border=\"1\" class=\"dataframe\">\n",
              "  <thead>\n",
              "    <tr style=\"text-align: right;\">\n",
              "      <th></th>\n",
              "      <th>kidney genetic test (gene a3hc)</th>\n",
              "      <th>kidney genetic test (gene 6a3cp)</th>\n",
              "      <th>kidney suffering test</th>\n",
              "      <th>kidney absortion test</th>\n",
              "      <th>kidney enzyme test</th>\n",
              "      <th>kidney failure</th>\n",
              "    </tr>\n",
              "  </thead>\n",
              "  <tbody>\n",
              "  </tbody>\n",
              "</table>\n",
              "</div>"
            ],
            "text/plain": [
              "Empty DataFrame\n",
              "Columns: [kidney genetic test (gene a3hc), kidney genetic test (gene 6a3cp), kidney suffering test, kidney absortion test, kidney enzyme test, kidney failure]\n",
              "Index: []"
            ]
          },
          "metadata": {
            "tags": []
          },
          "execution_count": 164
        }
      ]
    },
    {
      "cell_type": "markdown",
      "metadata": {
        "id": "tQoqz6CAghpp",
        "colab_type": "text"
      },
      "source": [
        ""
      ]
    },
    {
      "cell_type": "markdown",
      "metadata": {
        "id": "EH_f-qi3gFg8",
        "colab_type": "text"
      },
      "source": [
        "### for kidney failure is 0  \n",
        "there is at least one of 5 input feature's value is 1"
      ]
    },
    {
      "cell_type": "code",
      "metadata": {
        "id": "QEsq7StNfnJE",
        "colab_type": "code",
        "outputId": "6f73d092-ffdf-4be9-a0d6-76daad95bb54",
        "colab": {
          "base_uri": "https://localhost:8080/",
          "height": 238
        }
      },
      "source": [
        "test = data2[data2['kidney failure'] == 0]\n",
        "test.head()"
      ],
      "execution_count": 0,
      "outputs": [
        {
          "output_type": "execute_result",
          "data": {
            "text/html": [
              "<div>\n",
              "<style scoped>\n",
              "    .dataframe tbody tr th:only-of-type {\n",
              "        vertical-align: middle;\n",
              "    }\n",
              "\n",
              "    .dataframe tbody tr th {\n",
              "        vertical-align: top;\n",
              "    }\n",
              "\n",
              "    .dataframe thead th {\n",
              "        text-align: right;\n",
              "    }\n",
              "</style>\n",
              "<table border=\"1\" class=\"dataframe\">\n",
              "  <thead>\n",
              "    <tr style=\"text-align: right;\">\n",
              "      <th></th>\n",
              "      <th>kidney genetic test (gene a3hc)</th>\n",
              "      <th>kidney genetic test (gene 6a3cp)</th>\n",
              "      <th>kidney suffering test</th>\n",
              "      <th>kidney absortion test</th>\n",
              "      <th>kidney enzyme test</th>\n",
              "      <th>kidney failure</th>\n",
              "    </tr>\n",
              "  </thead>\n",
              "  <tbody>\n",
              "    <tr>\n",
              "      <th>0</th>\n",
              "      <td>0</td>\n",
              "      <td>1</td>\n",
              "      <td>0</td>\n",
              "      <td>0</td>\n",
              "      <td>0</td>\n",
              "      <td>0</td>\n",
              "    </tr>\n",
              "    <tr>\n",
              "      <th>1</th>\n",
              "      <td>0</td>\n",
              "      <td>0</td>\n",
              "      <td>0</td>\n",
              "      <td>1</td>\n",
              "      <td>0</td>\n",
              "      <td>0</td>\n",
              "    </tr>\n",
              "    <tr>\n",
              "      <th>2</th>\n",
              "      <td>0</td>\n",
              "      <td>1</td>\n",
              "      <td>0</td>\n",
              "      <td>0</td>\n",
              "      <td>0</td>\n",
              "      <td>0</td>\n",
              "    </tr>\n",
              "    <tr>\n",
              "      <th>6</th>\n",
              "      <td>0</td>\n",
              "      <td>0</td>\n",
              "      <td>0</td>\n",
              "      <td>0</td>\n",
              "      <td>1</td>\n",
              "      <td>0</td>\n",
              "    </tr>\n",
              "    <tr>\n",
              "      <th>9</th>\n",
              "      <td>0</td>\n",
              "      <td>0</td>\n",
              "      <td>1</td>\n",
              "      <td>0</td>\n",
              "      <td>0</td>\n",
              "      <td>0</td>\n",
              "    </tr>\n",
              "  </tbody>\n",
              "</table>\n",
              "</div>"
            ],
            "text/plain": [
              "   kidney genetic test (gene a3hc)  ...  kidney failure\n",
              "0                                0  ...               0\n",
              "1                                0  ...               0\n",
              "2                                0  ...               0\n",
              "6                                0  ...               0\n",
              "9                                0  ...               0\n",
              "\n",
              "[5 rows x 6 columns]"
            ]
          },
          "metadata": {
            "tags": []
          },
          "execution_count": 171
        }
      ]
    },
    {
      "cell_type": "markdown",
      "metadata": {
        "id": "KPi--cLnglfp",
        "colab_type": "text"
      },
      "source": [
        "### so  \n",
        "A patient **will suffer kidney** failure when when all results of these 5 tests is **negative**  \n",
        "But at** least one result **of these 5 tests is **positive**, the patient **will not suffe**r kidney failure"
      ]
    },
    {
      "cell_type": "markdown",
      "metadata": {
        "id": "hJrwxVetYI9P",
        "colab_type": "text"
      },
      "source": [
        "# Delete 4 most relavant features\n"
      ]
    },
    {
      "cell_type": "markdown",
      "metadata": {
        "id": "Cx9N0gfBYX24",
        "colab_type": "text"
      },
      "source": [
        "## Feature selection (first try)\n",
        "Remove features:\n",
        "* patient id\n",
        "* weight\n",
        "* height\n",
        "* d_demiter\n",
        "* mean_platelet_volume(same thing with platelet)\n",
        "\n",
        "so We keep 9 features like:\n",
        "* urea \n",
        "* monocytes\n",
        "* granulocytes\n",
        "* eosinophils                        \n",
        "* basophils  \n",
        "* platelets\n",
        "* leukocytes\n",
        "* glucose\n",
        "* kidney genetic test (gene a3hc)"
      ]
    },
    {
      "cell_type": "code",
      "metadata": {
        "id": "j1jxBibQapfo",
        "colab_type": "code",
        "outputId": "0e7847c1-95e0-4750-d5e0-9edbe84ca706",
        "colab": {
          "base_uri": "https://localhost:8080/",
          "height": 292
        }
      },
      "source": [
        "data2 = pd.DataFrame(data=data,columns=[\n",
        "                                         'urea',\n",
        "                                        'monocytes',\n",
        "                                        'granulocytes',\n",
        "                                        'eosinophils',\n",
        "                                        'basophils',\n",
        "                                        'platelets',\n",
        "                                        'leukocytes',\n",
        "                                        'glucose',\n",
        "                                        'kidney genetic test (gene a3hc)',\n",
        "                                         'kidney failure',\n",
        "                                        ])\n",
        "data2.info()"
      ],
      "execution_count": 0,
      "outputs": [
        {
          "output_type": "stream",
          "text": [
            "<class 'pandas.core.frame.DataFrame'>\n",
            "RangeIndex: 957 entries, 0 to 956\n",
            "Data columns (total 10 columns):\n",
            "urea                               836 non-null float64\n",
            "monocytes                          832 non-null float64\n",
            "granulocytes                       832 non-null float64\n",
            "eosinophils                        832 non-null float64\n",
            "basophils                          832 non-null float64\n",
            "platelets                          833 non-null float64\n",
            "leukocytes                         833 non-null float64\n",
            "glucose                            836 non-null float64\n",
            "kidney genetic test (gene a3hc)    957 non-null int64\n",
            "kidney failure                     957 non-null int64\n",
            "dtypes: float64(8), int64(2)\n",
            "memory usage: 74.9 KB\n"
          ],
          "name": "stdout"
        }
      ]
    },
    {
      "cell_type": "markdown",
      "metadata": {
        "id": "QzRGCC6ddMwW",
        "colab_type": "text"
      },
      "source": [
        "Deal with data missing(delete rows with missing value )"
      ]
    },
    {
      "cell_type": "code",
      "metadata": {
        "id": "pNUBb_18bcnL",
        "colab_type": "code",
        "outputId": "5ed72b00-cc73-4a4d-a13a-31c17a04eb81",
        "colab": {
          "base_uri": "https://localhost:8080/",
          "height": 292
        }
      },
      "source": [
        "data3 = pd.DataFrame(data2)\n",
        "data3.dropna(how='any', inplace=True)\n",
        "data3.info()"
      ],
      "execution_count": 0,
      "outputs": [
        {
          "output_type": "stream",
          "text": [
            "<class 'pandas.core.frame.DataFrame'>\n",
            "Int64Index: 832 entries, 0 to 956\n",
            "Data columns (total 10 columns):\n",
            "urea                               832 non-null float64\n",
            "monocytes                          832 non-null float64\n",
            "granulocytes                       832 non-null float64\n",
            "eosinophils                        832 non-null float64\n",
            "basophils                          832 non-null float64\n",
            "platelets                          832 non-null float64\n",
            "leukocytes                         832 non-null float64\n",
            "glucose                            832 non-null float64\n",
            "kidney genetic test (gene a3hc)    832 non-null int64\n",
            "kidney failure                     832 non-null int64\n",
            "dtypes: float64(8), int64(2)\n",
            "memory usage: 71.5 KB\n"
          ],
          "name": "stdout"
        }
      ]
    },
    {
      "cell_type": "markdown",
      "metadata": {
        "id": "ASMzgtOgdfJu",
        "colab_type": "text"
      },
      "source": [
        "I think it is acceptable.We still have 832 rows "
      ]
    },
    {
      "cell_type": "code",
      "metadata": {
        "id": "KLAMZbIYejOf",
        "colab_type": "code",
        "outputId": "0c895cab-a6db-4801-d583-d61c192f7191",
        "colab": {
          "base_uri": "https://localhost:8080/",
          "height": 408
        }
      },
      "source": [
        "import numpy as np\n",
        "data_set0 = data3.values\n",
        "print(data_set0.shape)\n",
        "print(data_set0[0:5])\n",
        "data3.head(5)"
      ],
      "execution_count": 0,
      "outputs": [
        {
          "output_type": "stream",
          "text": [
            "(832, 10)\n",
            "[[3.6300e+01 7.0350e+00 4.3365e+01 6.2830e+00 7.2800e-01 2.6104e+02\n",
            "  6.7600e+00 1.0706e+02 0.0000e+00 0.0000e+00]\n",
            " [5.0600e+01 6.9300e+00 6.8565e+01 4.8410e+00 6.2400e-01 3.3176e+02\n",
            "  8.6320e+00 1.8868e+02 0.0000e+00 1.0000e+00]\n",
            " [2.7500e+01 1.1235e+01 5.7015e+01 4.7380e+00 8.3200e-01 6.0008e+02\n",
            "  7.6960e+00 1.1978e+02 0.0000e+00 0.0000e+00]\n",
            " [5.0600e+01 8.4000e+00 4.8195e+01 4.6350e+00 5.2000e-01 2.0072e+02\n",
            "  6.6560e+00 1.2402e+02 0.0000e+00 0.0000e+00]\n",
            " [3.1900e+01 7.3500e+00 5.5965e+01 4.2230e+00 9.3600e-01 2.6104e+02\n",
            "  5.9280e+00 8.5860e+01 0.0000e+00 1.0000e+00]]\n"
          ],
          "name": "stdout"
        },
        {
          "output_type": "execute_result",
          "data": {
            "text/html": [
              "<div>\n",
              "<style scoped>\n",
              "    .dataframe tbody tr th:only-of-type {\n",
              "        vertical-align: middle;\n",
              "    }\n",
              "\n",
              "    .dataframe tbody tr th {\n",
              "        vertical-align: top;\n",
              "    }\n",
              "\n",
              "    .dataframe thead th {\n",
              "        text-align: right;\n",
              "    }\n",
              "</style>\n",
              "<table border=\"1\" class=\"dataframe\">\n",
              "  <thead>\n",
              "    <tr style=\"text-align: right;\">\n",
              "      <th></th>\n",
              "      <th>urea</th>\n",
              "      <th>monocytes</th>\n",
              "      <th>granulocytes</th>\n",
              "      <th>eosinophils</th>\n",
              "      <th>basophils</th>\n",
              "      <th>platelets</th>\n",
              "      <th>leukocytes</th>\n",
              "      <th>glucose</th>\n",
              "      <th>kidney genetic test (gene a3hc)</th>\n",
              "      <th>kidney failure</th>\n",
              "    </tr>\n",
              "  </thead>\n",
              "  <tbody>\n",
              "    <tr>\n",
              "      <th>0</th>\n",
              "      <td>36.3</td>\n",
              "      <td>7.035</td>\n",
              "      <td>43.365</td>\n",
              "      <td>6.283</td>\n",
              "      <td>0.728</td>\n",
              "      <td>261.04</td>\n",
              "      <td>6.760</td>\n",
              "      <td>107.06</td>\n",
              "      <td>0</td>\n",
              "      <td>0</td>\n",
              "    </tr>\n",
              "    <tr>\n",
              "      <th>1</th>\n",
              "      <td>50.6</td>\n",
              "      <td>6.930</td>\n",
              "      <td>68.565</td>\n",
              "      <td>4.841</td>\n",
              "      <td>0.624</td>\n",
              "      <td>331.76</td>\n",
              "      <td>8.632</td>\n",
              "      <td>188.68</td>\n",
              "      <td>0</td>\n",
              "      <td>1</td>\n",
              "    </tr>\n",
              "    <tr>\n",
              "      <th>3</th>\n",
              "      <td>27.5</td>\n",
              "      <td>11.235</td>\n",
              "      <td>57.015</td>\n",
              "      <td>4.738</td>\n",
              "      <td>0.832</td>\n",
              "      <td>600.08</td>\n",
              "      <td>7.696</td>\n",
              "      <td>119.78</td>\n",
              "      <td>0</td>\n",
              "      <td>0</td>\n",
              "    </tr>\n",
              "    <tr>\n",
              "      <th>4</th>\n",
              "      <td>50.6</td>\n",
              "      <td>8.400</td>\n",
              "      <td>48.195</td>\n",
              "      <td>4.635</td>\n",
              "      <td>0.520</td>\n",
              "      <td>200.72</td>\n",
              "      <td>6.656</td>\n",
              "      <td>124.02</td>\n",
              "      <td>0</td>\n",
              "      <td>0</td>\n",
              "    </tr>\n",
              "    <tr>\n",
              "      <th>5</th>\n",
              "      <td>31.9</td>\n",
              "      <td>7.350</td>\n",
              "      <td>55.965</td>\n",
              "      <td>4.223</td>\n",
              "      <td>0.936</td>\n",
              "      <td>261.04</td>\n",
              "      <td>5.928</td>\n",
              "      <td>85.86</td>\n",
              "      <td>0</td>\n",
              "      <td>1</td>\n",
              "    </tr>\n",
              "  </tbody>\n",
              "</table>\n",
              "</div>"
            ],
            "text/plain": [
              "   urea  monocytes  ...  kidney genetic test (gene a3hc)  kidney failure\n",
              "0  36.3      7.035  ...                                0               0\n",
              "1  50.6      6.930  ...                                0               1\n",
              "3  27.5     11.235  ...                                0               0\n",
              "4  50.6      8.400  ...                                0               0\n",
              "5  31.9      7.350  ...                                0               1\n",
              "\n",
              "[5 rows x 10 columns]"
            ]
          },
          "metadata": {
            "tags": []
          },
          "execution_count": 40
        }
      ]
    },
    {
      "cell_type": "markdown",
      "metadata": {
        "id": "pCKuiZxFGlgQ",
        "colab_type": "text"
      },
      "source": [
        "## Modeling"
      ]
    },
    {
      "cell_type": "code",
      "metadata": {
        "id": "W5rquevzew_a",
        "colab_type": "code",
        "outputId": "3a5fbcd3-5101-4287-cb65-1f8409c3354a",
        "colab": {
          "base_uri": "https://localhost:8080/",
          "height": 35
        }
      },
      "source": [
        "from sklearn.model_selection import train_test_split\n",
        "from sklearn.metrics import precision_recall_curve  \n",
        "from sklearn.metrics import classification_report \n",
        "np.random.shuffle(data_set0)\n",
        "x = data_set0[:,np.arange(0,9)]\n",
        "y = data_set0[:,9]\n",
        "x_train0, x_test0, y_train0, y_test0 = train_test_split(x, y, test_size = 0.2)\n",
        "x.shape"
      ],
      "execution_count": 0,
      "outputs": [
        {
          "output_type": "execute_result",
          "data": {
            "text/plain": [
              "(832, 9)"
            ]
          },
          "metadata": {
            "tags": []
          },
          "execution_count": 43
        }
      ]
    },
    {
      "cell_type": "code",
      "metadata": {
        "id": "LJIQMpFDfOO8",
        "colab_type": "code",
        "outputId": "153c6421-0f9d-4265-b49f-1c649e9c503b",
        "colab": {
          "base_uri": "https://localhost:8080/",
          "height": 237
        }
      },
      "source": [
        "from sklearn import tree\n",
        "model = tree.DecisionTreeClassifier(criterion='entropy',random_state=5)\n",
        "print(model)     \n",
        "model.fit(x_train0, y_train0)"
      ],
      "execution_count": 0,
      "outputs": [
        {
          "output_type": "stream",
          "text": [
            "DecisionTreeClassifier(ccp_alpha=0.0, class_weight=None, criterion='entropy',\n",
            "                       max_depth=None, max_features=None, max_leaf_nodes=None,\n",
            "                       min_impurity_decrease=0.0, min_impurity_split=None,\n",
            "                       min_samples_leaf=1, min_samples_split=2,\n",
            "                       min_weight_fraction_leaf=0.0, presort='deprecated',\n",
            "                       random_state=5, splitter='best')\n"
          ],
          "name": "stdout"
        },
        {
          "output_type": "execute_result",
          "data": {
            "text/plain": [
              "DecisionTreeClassifier(ccp_alpha=0.0, class_weight=None, criterion='entropy',\n",
              "                       max_depth=None, max_features=None, max_leaf_nodes=None,\n",
              "                       min_impurity_decrease=0.0, min_impurity_split=None,\n",
              "                       min_samples_leaf=1, min_samples_split=2,\n",
              "                       min_weight_fraction_leaf=0.0, presort='deprecated',\n",
              "                       random_state=5, splitter='best')"
            ]
          },
          "metadata": {
            "tags": []
          },
          "execution_count": 44
        }
      ]
    },
    {
      "cell_type": "markdown",
      "metadata": {
        "id": "9m5XupZ1HqiJ",
        "colab_type": "text"
      },
      "source": [
        "model overfit"
      ]
    },
    {
      "cell_type": "code",
      "metadata": {
        "id": "dWfdj3YJHcFC",
        "colab_type": "code",
        "outputId": "768327e6-d0bf-4691-fe93-b52a58b6eb70",
        "colab": {
          "base_uri": "https://localhost:8080/",
          "height": 182
        }
      },
      "source": [
        "print(classification_report(y_train0,model.predict(x_train0))) "
      ],
      "execution_count": 0,
      "outputs": [
        {
          "output_type": "stream",
          "text": [
            "              precision    recall  f1-score   support\n",
            "\n",
            "         0.0       1.00      1.00      1.00       352\n",
            "         1.0       1.00      1.00      1.00       313\n",
            "\n",
            "    accuracy                           1.00       665\n",
            "   macro avg       1.00      1.00      1.00       665\n",
            "weighted avg       1.00      1.00      1.00       665\n",
            "\n"
          ],
          "name": "stdout"
        }
      ]
    },
    {
      "cell_type": "code",
      "metadata": {
        "id": "77f6o-gNHXOC",
        "colab_type": "code",
        "outputId": "0b2103fd-595a-4a96-bf7e-c5c58c24ab30",
        "colab": {
          "base_uri": "https://localhost:8080/",
          "height": 182
        }
      },
      "source": [
        "print(classification_report(y_test0,model.predict(x_test0)))"
      ],
      "execution_count": 0,
      "outputs": [
        {
          "output_type": "stream",
          "text": [
            "              precision    recall  f1-score   support\n",
            "\n",
            "         0.0       0.57      0.68      0.62        81\n",
            "         1.0       0.63      0.51      0.56        86\n",
            "\n",
            "    accuracy                           0.59       167\n",
            "   macro avg       0.60      0.60      0.59       167\n",
            "weighted avg       0.60      0.59      0.59       167\n",
            "\n"
          ],
          "name": "stdout"
        }
      ]
    },
    {
      "cell_type": "code",
      "metadata": {
        "id": "68DgGUcvf5Ru",
        "colab_type": "code",
        "outputId": "25ed49e1-a05a-4421-81a2-63e39607c5ba",
        "colab": {
          "base_uri": "https://localhost:8080/",
          "height": 1000
        }
      },
      "source": [
        "tree.plot_tree(model)"
      ],
      "execution_count": 0,
      "outputs": [
        {
          "output_type": "execute_result",
          "data": {
            "text/plain": [
              "[Text(277.7495702357564, 213.25846153846155, 'X[8] <= 0.5\\nentropy = 0.998\\nsamples = 665\\nvalue = [352, 313]'),\n",
              " Text(275.118528978389, 204.89538461538461, 'X[1] <= 13.702\\nentropy = 0.998\\nsamples = 592\\nvalue = [279, 313]'),\n",
              " Text(272.48748772102164, 196.53230769230768, 'X[6] <= 9.1\\nentropy = 0.996\\nsamples = 585\\nvalue = [272, 313]'),\n",
              " Text(235.82762770137526, 188.16923076923078, 'X[0] <= 67.65\\nentropy = 0.99\\nsamples = 507\\nvalue = [223, 284]'),\n",
              " Text(181.5829567779961, 179.80615384615385, 'X[1] <= 9.188\\nentropy = 0.981\\nsamples = 466\\nvalue = [195, 271]'),\n",
              " Text(142.81620825147348, 171.44307692307692, 'X[3] <= 6.438\\nentropy = 0.959\\nsamples = 336\\nvalue = [128, 208]'),\n",
              " Text(110.83261296660119, 163.07999999999998, 'X[0] <= 64.35\\nentropy = 0.949\\nsamples = 324\\nvalue = [119, 205]'),\n",
              " Text(108.20157170923379, 154.71692307692308, 'X[4] <= 0.572\\nentropy = 0.954\\nsamples = 318\\nvalue = [119, 199]'),\n",
              " Text(52.12750491159136, 146.35384615384615, 'X[2] <= 62.212\\nentropy = 0.984\\nsamples = 188\\nvalue = [80, 108]'),\n",
              " Text(37.492337917485266, 137.99076923076922, 'X[2] <= 60.323\\nentropy = 0.931\\nsamples = 101\\nvalue = [35, 66]'),\n",
              " Text(32.230255402750494, 129.6276923076923, 'X[5] <= 160.68\\nentropy = 0.965\\nsamples = 87\\nvalue = [34, 53]'),\n",
              " Text(29.599214145383105, 121.26461538461538, 'entropy = 0.0\\nsamples = 4\\nvalue = [4, 0]'),\n",
              " Text(34.86129666011788, 121.26461538461538, 'X[5] <= 308.36\\nentropy = 0.944\\nsamples = 83\\nvalue = [30, 53]'),\n",
              " Text(32.230255402750494, 112.90153846153846, 'X[7] <= 147.87\\nentropy = 0.961\\nsamples = 78\\nvalue = [30, 48]'),\n",
              " Text(29.599214145383105, 104.53846153846153, 'X[0] <= 61.05\\nentropy = 0.977\\nsamples = 73\\nvalue = [30, 43]'),\n",
              " Text(26.96817288801572, 96.17538461538462, 'X[6] <= 8.06\\nentropy = 0.968\\nsamples = 71\\nvalue = [28, 43]'),\n",
              " Text(24.33713163064833, 87.81230769230768, 'X[4] <= 0.364\\nentropy = 0.983\\nsamples = 66\\nvalue = [28, 38]'),\n",
              " Text(7.893123772102161, 79.44923076923078, 'X[2] <= 56.438\\nentropy = 0.964\\nsamples = 18\\nvalue = [11, 7]'),\n",
              " Text(5.262082514734774, 71.08615384615385, 'X[6] <= 6.032\\nentropy = 0.996\\nsamples = 13\\nvalue = [6, 7]'),\n",
              " Text(2.631041257367387, 62.72307692307692, 'entropy = 0.0\\nsamples = 3\\nvalue = [3, 0]'),\n",
              " Text(7.893123772102161, 62.72307692307692, 'X[3] <= 1.957\\nentropy = 0.881\\nsamples = 10\\nvalue = [3, 7]'),\n",
              " Text(5.262082514734774, 54.360000000000014, 'entropy = 0.0\\nsamples = 4\\nvalue = [0, 4]'),\n",
              " Text(10.524165029469549, 54.360000000000014, 'X[1] <= 6.668\\nentropy = 1.0\\nsamples = 6\\nvalue = [3, 3]'),\n",
              " Text(7.893123772102161, 45.99692307692308, 'entropy = 0.0\\nsamples = 2\\nvalue = [0, 2]'),\n",
              " Text(13.155206286836936, 45.99692307692308, 'X[5] <= 266.24\\nentropy = 0.811\\nsamples = 4\\nvalue = [3, 1]'),\n",
              " Text(10.524165029469549, 37.63384615384615, 'entropy = 0.0\\nsamples = 3\\nvalue = [3, 0]'),\n",
              " Text(15.786247544204322, 37.63384615384615, 'entropy = 0.0\\nsamples = 1\\nvalue = [0, 1]'),\n",
              " Text(10.524165029469549, 71.08615384615385, 'entropy = 0.0\\nsamples = 5\\nvalue = [5, 0]'),\n",
              " Text(40.7811394891945, 79.44923076923078, 'X[3] <= 5.099\\nentropy = 0.938\\nsamples = 48\\nvalue = [17, 31]'),\n",
              " Text(38.150098231827116, 71.08615384615385, 'X[0] <= 51.15\\nentropy = 0.911\\nsamples = 46\\nvalue = [15, 31]'),\n",
              " Text(35.51905697445973, 62.72307692307692, 'X[0] <= 49.5\\nentropy = 0.94\\nsamples = 42\\nvalue = [15, 27]'),\n",
              " Text(32.88801571709234, 54.360000000000014, 'X[3] <= 3.347\\nentropy = 0.868\\nsamples = 38\\nvalue = [11, 27]'),\n",
              " Text(26.310412573673872, 45.99692307692308, 'X[7] <= 123.49\\nentropy = 0.722\\nsamples = 25\\nvalue = [5, 20]'),\n",
              " Text(21.048330058939097, 37.63384615384615, 'X[5] <= 241.28\\nentropy = 0.575\\nsamples = 22\\nvalue = [3, 19]'),\n",
              " Text(18.41728880157171, 29.270769230769247, 'X[7] <= 106.53\\nentropy = 0.845\\nsamples = 11\\nvalue = [3, 8]'),\n",
              " Text(15.786247544204322, 20.907692307692315, 'X[7] <= 92.22\\nentropy = 0.985\\nsamples = 7\\nvalue = [3, 4]'),\n",
              " Text(13.155206286836936, 12.544615384615383, 'entropy = 0.0\\nsamples = 2\\nvalue = [0, 2]'),\n",
              " Text(18.41728880157171, 12.544615384615383, 'X[5] <= 184.08\\nentropy = 0.971\\nsamples = 5\\nvalue = [3, 2]'),\n",
              " Text(15.786247544204322, 4.181538461538452, 'entropy = 0.0\\nsamples = 2\\nvalue = [0, 2]'),\n",
              " Text(21.048330058939097, 4.181538461538452, 'entropy = 0.0\\nsamples = 3\\nvalue = [3, 0]'),\n",
              " Text(21.048330058939097, 20.907692307692315, 'entropy = 0.0\\nsamples = 4\\nvalue = [0, 4]'),\n",
              " Text(23.679371316306483, 29.270769230769247, 'entropy = 0.0\\nsamples = 11\\nvalue = [0, 11]'),\n",
              " Text(31.572495088408644, 37.63384615384615, 'X[3] <= 2.317\\nentropy = 0.918\\nsamples = 3\\nvalue = [2, 1]'),\n",
              " Text(28.941453831041258, 29.270769230769247, 'entropy = 0.0\\nsamples = 2\\nvalue = [2, 0]'),\n",
              " Text(34.20353634577603, 29.270769230769247, 'entropy = 0.0\\nsamples = 1\\nvalue = [0, 1]'),\n",
              " Text(39.46561886051081, 45.99692307692308, 'X[3] <= 3.965\\nentropy = 0.996\\nsamples = 13\\nvalue = [6, 7]'),\n",
              " Text(36.83457760314342, 37.63384615384615, 'entropy = 0.0\\nsamples = 4\\nvalue = [4, 0]'),\n",
              " Text(42.096660117878194, 37.63384615384615, 'X[2] <= 53.182\\nentropy = 0.764\\nsamples = 9\\nvalue = [2, 7]'),\n",
              " Text(39.46561886051081, 29.270769230769247, 'X[2] <= 51.135\\nentropy = 1.0\\nsamples = 4\\nvalue = [2, 2]'),\n",
              " Text(36.83457760314342, 20.907692307692315, 'entropy = 0.0\\nsamples = 2\\nvalue = [0, 2]'),\n",
              " Text(42.096660117878194, 20.907692307692315, 'entropy = 0.0\\nsamples = 2\\nvalue = [2, 0]'),\n",
              " Text(44.72770137524558, 29.270769230769247, 'entropy = 0.0\\nsamples = 5\\nvalue = [0, 5]'),\n",
              " Text(38.150098231827116, 54.360000000000014, 'entropy = 0.0\\nsamples = 4\\nvalue = [4, 0]'),\n",
              " Text(40.7811394891945, 62.72307692307692, 'entropy = 0.0\\nsamples = 4\\nvalue = [0, 4]'),\n",
              " Text(43.41218074656189, 71.08615384615385, 'entropy = 0.0\\nsamples = 2\\nvalue = [2, 0]'),\n",
              " Text(29.599214145383105, 87.81230769230768, 'entropy = 0.0\\nsamples = 5\\nvalue = [0, 5]'),\n",
              " Text(32.230255402750494, 96.17538461538462, 'entropy = 0.0\\nsamples = 2\\nvalue = [2, 0]'),\n",
              " Text(34.86129666011788, 104.53846153846153, 'entropy = 0.0\\nsamples = 5\\nvalue = [0, 5]'),\n",
              " Text(37.492337917485266, 112.90153846153846, 'entropy = 0.0\\nsamples = 5\\nvalue = [0, 5]'),\n",
              " Text(42.754420432220044, 129.6276923076923, 'X[5] <= 304.72\\nentropy = 0.371\\nsamples = 14\\nvalue = [1, 13]'),\n",
              " Text(40.12337917485265, 121.26461538461538, 'entropy = 0.0\\nsamples = 12\\nvalue = [0, 12]'),\n",
              " Text(45.38546168958743, 121.26461538461538, 'X[0] <= 55.55\\nentropy = 1.0\\nsamples = 2\\nvalue = [1, 1]'),\n",
              " Text(42.754420432220044, 112.90153846153846, 'entropy = 0.0\\nsamples = 1\\nvalue = [0, 1]'),\n",
              " Text(48.016502946954816, 112.90153846153846, 'entropy = 0.0\\nsamples = 1\\nvalue = [1, 0]'),\n",
              " Text(66.76267190569745, 137.99076923076922, 'X[5] <= 159.64\\nentropy = 0.999\\nsamples = 87\\nvalue = [45, 42]'),\n",
              " Text(64.13163064833006, 129.6276923076923, 'entropy = 0.0\\nsamples = 5\\nvalue = [0, 5]'),\n",
              " Text(69.39371316306483, 129.6276923076923, 'X[5] <= 174.2\\nentropy = 0.993\\nsamples = 82\\nvalue = [45, 37]'),\n",
              " Text(66.76267190569745, 121.26461538461538, 'entropy = 0.0\\nsamples = 6\\nvalue = [6, 0]'),\n",
              " Text(72.02475442043222, 121.26461538461538, 'X[7] <= 98.05\\nentropy = 1.0\\nsamples = 76\\nvalue = [39, 37]'),\n",
              " Text(53.27858546168959, 112.90153846153846, 'X[0] <= 53.35\\nentropy = 0.904\\nsamples = 25\\nvalue = [8, 17]'),\n",
              " Text(50.6475442043222, 104.53846153846153, 'X[2] <= 65.415\\nentropy = 0.982\\nsamples = 19\\nvalue = [8, 11]'),\n",
              " Text(48.016502946954816, 96.17538461538462, 'entropy = 0.0\\nsamples = 4\\nvalue = [0, 4]'),\n",
              " Text(53.27858546168959, 96.17538461538462, 'X[7] <= 94.87\\nentropy = 0.997\\nsamples = 15\\nvalue = [8, 7]'),\n",
              " Text(50.6475442043222, 87.81230769230768, 'X[5] <= 237.64\\nentropy = 0.918\\nsamples = 12\\nvalue = [8, 4]'),\n",
              " Text(48.016502946954816, 79.44923076923078, 'entropy = 0.0\\nsamples = 5\\nvalue = [5, 0]'),\n",
              " Text(53.27858546168959, 79.44923076923078, 'X[0] <= 39.6\\nentropy = 0.985\\nsamples = 7\\nvalue = [3, 4]'),\n",
              " Text(50.6475442043222, 71.08615384615385, 'entropy = 0.0\\nsamples = 2\\nvalue = [2, 0]'),\n",
              " Text(55.90962671905697, 71.08615384615385, 'X[2] <= 74.287\\nentropy = 0.722\\nsamples = 5\\nvalue = [1, 4]'),\n",
              " Text(53.27858546168959, 62.72307692307692, 'entropy = 0.0\\nsamples = 4\\nvalue = [0, 4]'),\n",
              " Text(58.540667976424366, 62.72307692307692, 'entropy = 0.0\\nsamples = 1\\nvalue = [1, 0]'),\n",
              " Text(55.90962671905697, 87.81230769230768, 'entropy = 0.0\\nsamples = 3\\nvalue = [0, 3]'),\n",
              " Text(55.90962671905697, 104.53846153846153, 'entropy = 0.0\\nsamples = 6\\nvalue = [0, 6]'),\n",
              " Text(90.77092337917486, 112.90153846153846, 'X[3] <= 3.038\\nentropy = 0.966\\nsamples = 51\\nvalue = [31, 20]'),\n",
              " Text(83.53555992141455, 104.53846153846153, 'X[1] <= 8.872\\nentropy = 0.878\\nsamples = 37\\nvalue = [26, 11]'),\n",
              " Text(80.90451866404716, 96.17538461538462, 'X[0] <= 56.1\\nentropy = 0.787\\nsamples = 34\\nvalue = [26, 8]'),\n",
              " Text(74.32691552062869, 87.81230769230768, 'X[5] <= 261.04\\nentropy = 0.65\\nsamples = 30\\nvalue = [25, 5]'),\n",
              " Text(69.06483300589392, 79.44923076923078, 'X[5] <= 204.36\\nentropy = 0.297\\nsamples = 19\\nvalue = [18, 1]'),\n",
              " Text(66.43379174852653, 71.08615384615385, 'X[0] <= 39.6\\nentropy = 0.918\\nsamples = 3\\nvalue = [2, 1]'),\n",
              " Text(63.80275049115914, 62.72307692307692, 'entropy = 0.0\\nsamples = 1\\nvalue = [0, 1]'),\n",
              " Text(69.06483300589392, 62.72307692307692, 'entropy = 0.0\\nsamples = 2\\nvalue = [2, 0]'),\n",
              " Text(71.6958742632613, 71.08615384615385, 'entropy = 0.0\\nsamples = 16\\nvalue = [16, 0]'),\n",
              " Text(79.58899803536346, 79.44923076923078, 'X[6] <= 6.916\\nentropy = 0.946\\nsamples = 11\\nvalue = [7, 4]'),\n",
              " Text(76.95795677799607, 71.08615384615385, 'X[4] <= 0.208\\nentropy = 0.722\\nsamples = 5\\nvalue = [1, 4]'),\n",
              " Text(74.32691552062869, 62.72307692307692, 'entropy = 0.0\\nsamples = 1\\nvalue = [1, 0]'),\n",
              " Text(79.58899803536346, 62.72307692307692, 'entropy = 0.0\\nsamples = 4\\nvalue = [0, 4]'),\n",
              " Text(82.22003929273085, 71.08615384615385, 'entropy = 0.0\\nsamples = 6\\nvalue = [6, 0]'),\n",
              " Text(87.48212180746562, 87.81230769230768, 'X[2] <= 67.673\\nentropy = 0.811\\nsamples = 4\\nvalue = [1, 3]'),\n",
              " Text(84.85108055009823, 79.44923076923078, 'entropy = 0.0\\nsamples = 1\\nvalue = [1, 0]'),\n",
              " Text(90.113163064833, 79.44923076923078, 'entropy = 0.0\\nsamples = 3\\nvalue = [0, 3]'),\n",
              " Text(86.16660117878193, 96.17538461538462, 'entropy = 0.0\\nsamples = 3\\nvalue = [0, 3]'),\n",
              " Text(98.00628683693517, 104.53846153846153, 'X[5] <= 242.32\\nentropy = 0.94\\nsamples = 14\\nvalue = [5, 9]'),\n",
              " Text(95.37524557956779, 96.17538461538462, 'entropy = 0.0\\nsamples = 7\\nvalue = [0, 7]'),\n",
              " Text(100.63732809430256, 96.17538461538462, 'X[7] <= 200.34\\nentropy = 0.863\\nsamples = 7\\nvalue = [5, 2]'),\n",
              " Text(98.00628683693517, 87.81230769230768, 'X[0] <= 58.85\\nentropy = 0.65\\nsamples = 6\\nvalue = [5, 1]'),\n",
              " Text(95.37524557956779, 79.44923076923078, 'entropy = 0.0\\nsamples = 5\\nvalue = [5, 0]'),\n",
              " Text(100.63732809430256, 79.44923076923078, 'entropy = 0.0\\nsamples = 1\\nvalue = [0, 1]'),\n",
              " Text(103.26836935166995, 87.81230769230768, 'entropy = 0.0\\nsamples = 1\\nvalue = [0, 1]'),\n",
              " Text(164.27563850687625, 146.35384615384615, 'X[2] <= 67.147\\nentropy = 0.881\\nsamples = 130\\nvalue = [39, 91]'),\n",
              " Text(148.9827111984283, 137.99076923076922, 'X[5] <= 270.92\\nentropy = 0.924\\nsamples = 109\\nvalue = [37, 72]'),\n",
              " Text(131.55206286836935, 129.6276923076923, 'X[0] <= 34.65\\nentropy = 0.865\\nsamples = 87\\nvalue = [25, 62]'),\n",
              " Text(128.92102161100198, 121.26461538461538, 'entropy = 0.0\\nsamples = 9\\nvalue = [0, 9]'),\n",
              " Text(134.18310412573675, 121.26461538461538, 'X[5] <= 235.56\\nentropy = 0.905\\nsamples = 78\\nvalue = [25, 53]'),\n",
              " Text(120.37013752455796, 112.90153846153846, 'X[6] <= 6.708\\nentropy = 0.976\\nsamples = 49\\nvalue = [20, 29]'),\n",
              " Text(113.79253438113949, 104.53846153846153, 'X[6] <= 6.5\\nentropy = 0.999\\nsamples = 33\\nvalue = [17, 16]'),\n",
              " Text(111.1614931237721, 96.17538461538462, 'X[7] <= 90.1\\nentropy = 0.992\\nsamples = 29\\nvalue = [13, 16]'),\n",
              " Text(108.53045186640472, 87.81230769230768, 'entropy = 0.0\\nsamples = 2\\nvalue = [2, 0]'),\n",
              " Text(113.79253438113949, 87.81230769230768, 'X[0] <= 51.15\\nentropy = 0.975\\nsamples = 27\\nvalue = [11, 16]'),\n",
              " Text(108.53045186640472, 79.44923076923078, 'X[3] <= 2.729\\nentropy = 0.811\\nsamples = 16\\nvalue = [4, 12]'),\n",
              " Text(105.89941060903733, 71.08615384615385, 'X[4] <= 0.78\\nentropy = 0.991\\nsamples = 9\\nvalue = [4, 5]'),\n",
              " Text(103.26836935166995, 62.72307692307692, 'X[1] <= 8.872\\nentropy = 0.918\\nsamples = 6\\nvalue = [4, 2]'),\n",
              " Text(100.63732809430256, 54.360000000000014, 'entropy = 0.0\\nsamples = 4\\nvalue = [4, 0]'),\n",
              " Text(105.89941060903733, 54.360000000000014, 'entropy = 0.0\\nsamples = 2\\nvalue = [0, 2]'),\n",
              " Text(108.53045186640472, 62.72307692307692, 'entropy = 0.0\\nsamples = 3\\nvalue = [0, 3]'),\n",
              " Text(111.1614931237721, 71.08615384615385, 'entropy = 0.0\\nsamples = 7\\nvalue = [0, 7]'),\n",
              " Text(119.05461689587426, 79.44923076923078, 'X[2] <= 58.275\\nentropy = 0.946\\nsamples = 11\\nvalue = [7, 4]'),\n",
              " Text(116.42357563850688, 71.08615384615385, 'entropy = 0.0\\nsamples = 5\\nvalue = [5, 0]'),\n",
              " Text(121.68565815324166, 71.08615384615385, 'X[6] <= 5.408\\nentropy = 0.918\\nsamples = 6\\nvalue = [2, 4]'),\n",
              " Text(119.05461689587426, 62.72307692307692, 'entropy = 0.0\\nsamples = 4\\nvalue = [0, 4]'),\n",
              " Text(124.31669941060905, 62.72307692307692, 'entropy = 0.0\\nsamples = 2\\nvalue = [2, 0]'),\n",
              " Text(116.42357563850688, 96.17538461538462, 'entropy = 0.0\\nsamples = 4\\nvalue = [4, 0]'),\n",
              " Text(126.94774066797643, 104.53846153846153, 'X[6] <= 7.124\\nentropy = 0.696\\nsamples = 16\\nvalue = [3, 13]'),\n",
              " Text(124.31669941060905, 96.17538461538462, 'entropy = 0.0\\nsamples = 8\\nvalue = [0, 8]'),\n",
              " Text(129.5787819253438, 96.17538461538462, 'X[4] <= 0.676\\nentropy = 0.954\\nsamples = 8\\nvalue = [3, 5]'),\n",
              " Text(126.94774066797643, 87.81230769230768, 'X[0] <= 42.9\\nentropy = 0.811\\nsamples = 4\\nvalue = [3, 1]'),\n",
              " Text(124.31669941060905, 79.44923076923078, 'entropy = 0.0\\nsamples = 1\\nvalue = [0, 1]'),\n",
              " Text(129.5787819253438, 79.44923076923078, 'entropy = 0.0\\nsamples = 3\\nvalue = [3, 0]'),\n",
              " Text(132.2098231827112, 87.81230769230768, 'entropy = 0.0\\nsamples = 4\\nvalue = [0, 4]'),\n",
              " Text(147.99607072691552, 112.90153846153846, 'X[7] <= 128.26\\nentropy = 0.663\\nsamples = 29\\nvalue = [5, 24]'),\n",
              " Text(142.73398821218075, 104.53846153846153, 'X[0] <= 43.45\\nentropy = 0.516\\nsamples = 26\\nvalue = [3, 23]'),\n",
              " Text(140.10294695481338, 96.17538461538462, 'X[6] <= 6.448\\nentropy = 0.881\\nsamples = 10\\nvalue = [3, 7]'),\n",
              " Text(137.47190569744598, 87.81230769230768, 'entropy = 0.0\\nsamples = 6\\nvalue = [0, 6]'),\n",
              " Text(142.73398821218075, 87.81230769230768, 'X[3] <= 1.751\\nentropy = 0.811\\nsamples = 4\\nvalue = [3, 1]'),\n",
              " Text(140.10294695481338, 79.44923076923078, 'entropy = 0.0\\nsamples = 1\\nvalue = [0, 1]'),\n",
              " Text(145.36502946954815, 79.44923076923078, 'entropy = 0.0\\nsamples = 3\\nvalue = [3, 0]'),\n",
              " Text(145.36502946954815, 96.17538461538462, 'entropy = 0.0\\nsamples = 16\\nvalue = [0, 16]'),\n",
              " Text(153.2581532416503, 104.53846153846153, 'X[0] <= 40.7\\nentropy = 0.918\\nsamples = 3\\nvalue = [2, 1]'),\n",
              " Text(150.62711198428292, 96.17538461538462, 'entropy = 0.0\\nsamples = 1\\nvalue = [0, 1]'),\n",
              " Text(155.8891944990177, 96.17538461538462, 'entropy = 0.0\\nsamples = 2\\nvalue = [2, 0]'),\n",
              " Text(166.41335952848723, 129.6276923076923, 'X[5] <= 337.48\\nentropy = 0.994\\nsamples = 22\\nvalue = [12, 10]'),\n",
              " Text(163.78231827111986, 121.26461538461538, 'X[6] <= 4.628\\nentropy = 0.918\\nsamples = 18\\nvalue = [12, 6]'),\n",
              " Text(161.15127701375246, 112.90153846153846, 'entropy = 0.0\\nsamples = 2\\nvalue = [0, 2]'),\n",
              " Text(166.41335952848723, 112.90153846153846, 'X[3] <= 4.584\\nentropy = 0.811\\nsamples = 16\\nvalue = [12, 4]'),\n",
              " Text(163.78231827111986, 104.53846153846153, 'X[0] <= 39.05\\nentropy = 0.592\\nsamples = 14\\nvalue = [12, 2]'),\n",
              " Text(161.15127701375246, 96.17538461538462, 'X[3] <= 2.163\\nentropy = 0.971\\nsamples = 5\\nvalue = [3, 2]'),\n",
              " Text(158.52023575638506, 87.81230769230768, 'entropy = 0.0\\nsamples = 2\\nvalue = [0, 2]'),\n",
              " Text(163.78231827111986, 87.81230769230768, 'entropy = 0.0\\nsamples = 3\\nvalue = [3, 0]'),\n",
              " Text(166.41335952848723, 96.17538461538462, 'entropy = 0.0\\nsamples = 9\\nvalue = [9, 0]'),\n",
              " Text(169.04440078585463, 104.53846153846153, 'entropy = 0.0\\nsamples = 2\\nvalue = [0, 2]'),\n",
              " Text(169.04440078585463, 121.26461538461538, 'entropy = 0.0\\nsamples = 4\\nvalue = [0, 4]'),\n",
              " Text(179.56856581532418, 137.99076923076922, 'X[2] <= 77.018\\nentropy = 0.454\\nsamples = 21\\nvalue = [2, 19]'),\n",
              " Text(176.93752455795678, 129.6276923076923, 'X[0] <= 57.75\\nentropy = 0.286\\nsamples = 20\\nvalue = [1, 19]'),\n",
              " Text(174.3064833005894, 121.26461538461538, 'entropy = 0.0\\nsamples = 19\\nvalue = [0, 19]'),\n",
              " Text(179.56856581532418, 121.26461538461538, 'entropy = 0.0\\nsamples = 1\\nvalue = [1, 0]'),\n",
              " Text(182.19960707269155, 129.6276923076923, 'entropy = 0.0\\nsamples = 1\\nvalue = [1, 0]'),\n",
              " Text(113.46365422396858, 154.71692307692308, 'entropy = 0.0\\nsamples = 6\\nvalue = [0, 6]'),\n",
              " Text(174.7998035363458, 163.07999999999998, 'X[1] <= 8.872\\nentropy = 0.811\\nsamples = 12\\nvalue = [9, 3]'),\n",
              " Text(172.1687622789784, 154.71692307692308, 'X[2] <= 42.84\\nentropy = 0.469\\nsamples = 10\\nvalue = [9, 1]'),\n",
              " Text(169.53772102161102, 146.35384615384615, 'entropy = 0.0\\nsamples = 1\\nvalue = [0, 1]'),\n",
              " Text(174.7998035363458, 146.35384615384615, 'entropy = 0.0\\nsamples = 9\\nvalue = [9, 0]'),\n",
              " Text(177.43084479371316, 154.71692307692308, 'entropy = 0.0\\nsamples = 2\\nvalue = [0, 2]'),\n",
              " Text(220.34970530451866, 171.44307692307692, 'X[2] <= 54.442\\nentropy = 0.999\\nsamples = 130\\nvalue = [67, 63]'),\n",
              " Text(197.9858546168959, 163.07999999999998, 'X[5] <= 170.04\\nentropy = 0.964\\nsamples = 54\\nvalue = [21, 33]'),\n",
              " Text(195.3548133595285, 154.71692307692308, 'entropy = 0.0\\nsamples = 4\\nvalue = [0, 4]'),\n",
              " Text(200.61689587426326, 154.71692307692308, 'X[0] <= 46.75\\nentropy = 0.981\\nsamples = 50\\nvalue = [21, 29]'),\n",
              " Text(187.46168958742632, 146.35384615384615, 'X[3] <= 1.596\\nentropy = 0.894\\nsamples = 29\\nvalue = [9, 20]'),\n",
              " Text(184.83064833005895, 137.99076923076922, 'entropy = 0.0\\nsamples = 2\\nvalue = [2, 0]'),\n",
              " Text(190.09273084479372, 137.99076923076922, 'X[6] <= 4.42\\nentropy = 0.826\\nsamples = 27\\nvalue = [7, 20]'),\n",
              " Text(187.46168958742632, 129.6276923076923, 'entropy = 0.0\\nsamples = 2\\nvalue = [2, 0]'),\n",
              " Text(192.72377210216112, 129.6276923076923, 'X[1] <= 12.18\\nentropy = 0.722\\nsamples = 25\\nvalue = [5, 20]'),\n",
              " Text(187.46168958742632, 121.26461538461538, 'X[0] <= 31.35\\nentropy = 0.31\\nsamples = 18\\nvalue = [1, 17]'),\n",
              " Text(184.83064833005895, 112.90153846153846, 'X[3] <= 3.656\\nentropy = 1.0\\nsamples = 2\\nvalue = [1, 1]'),\n",
              " Text(182.19960707269155, 104.53846153846153, 'entropy = 0.0\\nsamples = 1\\nvalue = [1, 0]'),\n",
              " Text(187.46168958742632, 104.53846153846153, 'entropy = 0.0\\nsamples = 1\\nvalue = [0, 1]'),\n",
              " Text(190.09273084479372, 112.90153846153846, 'entropy = 0.0\\nsamples = 16\\nvalue = [0, 16]'),\n",
              " Text(197.9858546168959, 121.26461538461538, 'X[4] <= 0.572\\nentropy = 0.985\\nsamples = 7\\nvalue = [4, 3]'),\n",
              " Text(195.3548133595285, 112.90153846153846, 'entropy = 0.0\\nsamples = 2\\nvalue = [0, 2]'),\n",
              " Text(200.61689587426326, 112.90153846153846, 'X[0] <= 44.55\\nentropy = 0.722\\nsamples = 5\\nvalue = [4, 1]'),\n",
              " Text(197.9858546168959, 104.53846153846153, 'entropy = 0.0\\nsamples = 4\\nvalue = [4, 0]'),\n",
              " Text(203.24793713163066, 104.53846153846153, 'entropy = 0.0\\nsamples = 1\\nvalue = [0, 1]'),\n",
              " Text(213.7721021611002, 146.35384615384615, 'X[3] <= 2.421\\nentropy = 0.985\\nsamples = 21\\nvalue = [12, 9]'),\n",
              " Text(211.1410609037328, 137.99076923076922, 'entropy = 0.0\\nsamples = 4\\nvalue = [0, 4]'),\n",
              " Text(216.40314341846758, 137.99076923076922, 'X[4] <= 0.468\\nentropy = 0.874\\nsamples = 17\\nvalue = [12, 5]'),\n",
              " Text(213.7721021611002, 129.6276923076923, 'entropy = 0.0\\nsamples = 4\\nvalue = [4, 0]'),\n",
              " Text(219.03418467583498, 129.6276923076923, 'X[3] <= 7.21\\nentropy = 0.961\\nsamples = 13\\nvalue = [8, 5]'),\n",
              " Text(216.40314341846758, 121.26461538461538, 'X[0] <= 60.5\\nentropy = 0.994\\nsamples = 11\\nvalue = [6, 5]'),\n",
              " Text(213.7721021611002, 112.90153846153846, 'X[1] <= 10.028\\nentropy = 0.991\\nsamples = 9\\nvalue = [4, 5]'),\n",
              " Text(208.51001964636544, 104.53846153846153, 'X[1] <= 9.555\\nentropy = 0.811\\nsamples = 4\\nvalue = [3, 1]'),\n",
              " Text(205.87897838899804, 96.17538461538462, 'entropy = 0.0\\nsamples = 1\\nvalue = [0, 1]'),\n",
              " Text(211.1410609037328, 96.17538461538462, 'entropy = 0.0\\nsamples = 3\\nvalue = [3, 0]'),\n",
              " Text(219.03418467583498, 104.53846153846153, 'X[2] <= 46.515\\nentropy = 0.722\\nsamples = 5\\nvalue = [1, 4]'),\n",
              " Text(216.40314341846758, 96.17538461538462, 'X[2] <= 40.688\\nentropy = 1.0\\nsamples = 2\\nvalue = [1, 1]'),\n",
              " Text(213.7721021611002, 87.81230769230768, 'entropy = 0.0\\nsamples = 1\\nvalue = [0, 1]'),\n",
              " Text(219.03418467583498, 87.81230769230768, 'entropy = 0.0\\nsamples = 1\\nvalue = [1, 0]'),\n",
              " Text(221.66522593320238, 96.17538461538462, 'entropy = 0.0\\nsamples = 3\\nvalue = [0, 3]'),\n",
              " Text(219.03418467583498, 112.90153846153846, 'entropy = 0.0\\nsamples = 2\\nvalue = [2, 0]'),\n",
              " Text(221.66522593320238, 121.26461538461538, 'entropy = 0.0\\nsamples = 2\\nvalue = [2, 0]'),\n",
              " Text(242.71355599214147, 163.07999999999998, 'X[2] <= 57.435\\nentropy = 0.968\\nsamples = 76\\nvalue = [46, 30]'),\n",
              " Text(229.55834970530452, 154.71692307692308, 'X[0] <= 32.45\\nentropy = 0.61\\nsamples = 20\\nvalue = [17, 3]'),\n",
              " Text(224.29626719056975, 146.35384615384615, 'X[4] <= 0.78\\nentropy = 0.918\\nsamples = 3\\nvalue = [1, 2]'),\n",
              " Text(221.66522593320238, 137.99076923076922, 'entropy = 0.0\\nsamples = 2\\nvalue = [0, 2]'),\n",
              " Text(226.92730844793715, 137.99076923076922, 'entropy = 0.0\\nsamples = 1\\nvalue = [1, 0]'),\n",
              " Text(234.8204322200393, 146.35384615384615, 'X[0] <= 46.2\\nentropy = 0.323\\nsamples = 17\\nvalue = [16, 1]'),\n",
              " Text(232.18939096267192, 137.99076923076922, 'entropy = 0.0\\nsamples = 12\\nvalue = [12, 0]'),\n",
              " Text(237.4514734774067, 137.99076923076922, 'X[0] <= 50.6\\nentropy = 0.722\\nsamples = 5\\nvalue = [4, 1]'),\n",
              " Text(234.8204322200393, 129.6276923076923, 'entropy = 0.0\\nsamples = 1\\nvalue = [0, 1]'),\n",
              " Text(240.08251473477407, 129.6276923076923, 'entropy = 0.0\\nsamples = 4\\nvalue = [4, 0]'),\n",
              " Text(255.8687622789784, 154.71692307692308, 'X[6] <= 5.668\\nentropy = 0.999\\nsamples = 56\\nvalue = [29, 27]'),\n",
              " Text(253.237721021611, 146.35384615384615, 'entropy = 0.0\\nsamples = 6\\nvalue = [0, 6]'),\n",
              " Text(258.4998035363458, 146.35384615384615, 'X[7] <= 102.29\\nentropy = 0.981\\nsamples = 50\\nvalue = [29, 21]'),\n",
              " Text(250.60667976424364, 137.99076923076922, 'X[5] <= 213.2\\nentropy = 0.964\\nsamples = 18\\nvalue = [7, 11]'),\n",
              " Text(245.34459724950884, 129.6276923076923, 'X[5] <= 133.12\\nentropy = 0.918\\nsamples = 9\\nvalue = [6, 3]'),\n",
              " Text(242.71355599214147, 121.26461538461538, 'entropy = 0.0\\nsamples = 2\\nvalue = [0, 2]'),\n",
              " Text(247.97563850687624, 121.26461538461538, 'X[1] <= 10.448\\nentropy = 0.592\\nsamples = 7\\nvalue = [6, 1]'),\n",
              " Text(245.34459724950884, 112.90153846153846, 'entropy = 0.0\\nsamples = 5\\nvalue = [5, 0]'),\n",
              " Text(250.60667976424364, 112.90153846153846, 'X[5] <= 151.32\\nentropy = 1.0\\nsamples = 2\\nvalue = [1, 1]'),\n",
              " Text(247.97563850687624, 104.53846153846153, 'entropy = 0.0\\nsamples = 1\\nvalue = [1, 0]'),\n",
              " Text(253.237721021611, 104.53846153846153, 'entropy = 0.0\\nsamples = 1\\nvalue = [0, 1]'),\n",
              " Text(255.8687622789784, 129.6276923076923, 'X[5] <= 343.2\\nentropy = 0.503\\nsamples = 9\\nvalue = [1, 8]'),\n",
              " Text(253.237721021611, 121.26461538461538, 'entropy = 0.0\\nsamples = 8\\nvalue = [0, 8]'),\n",
              " Text(258.4998035363458, 121.26461538461538, 'entropy = 0.0\\nsamples = 1\\nvalue = [1, 0]'),\n",
              " Text(266.39292730844795, 137.99076923076922, 'X[7] <= 110.24\\nentropy = 0.896\\nsamples = 32\\nvalue = [22, 10]'),\n",
              " Text(263.7618860510806, 129.6276923076923, 'entropy = 0.0\\nsamples = 8\\nvalue = [8, 0]'),\n",
              " Text(269.0239685658153, 129.6276923076923, 'X[3] <= 3.554\\nentropy = 0.98\\nsamples = 24\\nvalue = [14, 10]'),\n",
              " Text(263.7618860510806, 121.26461538461538, 'X[7] <= 125.08\\nentropy = 0.997\\nsamples = 15\\nvalue = [7, 8]'),\n",
              " Text(261.13084479371315, 112.90153846153846, 'entropy = 0.0\\nsamples = 5\\nvalue = [0, 5]'),\n",
              " Text(266.39292730844795, 112.90153846153846, 'X[3] <= 1.751\\nentropy = 0.881\\nsamples = 10\\nvalue = [7, 3]'),\n",
              " Text(263.7618860510806, 104.53846153846153, 'entropy = 0.0\\nsamples = 4\\nvalue = [4, 0]'),\n",
              " Text(269.0239685658153, 104.53846153846153, 'X[2] <= 67.462\\nentropy = 1.0\\nsamples = 6\\nvalue = [3, 3]'),\n",
              " Text(266.39292730844795, 96.17538461538462, 'X[2] <= 62.265\\nentropy = 0.811\\nsamples = 4\\nvalue = [3, 1]'),\n",
              " Text(263.7618860510806, 87.81230769230768, 'entropy = 0.0\\nsamples = 1\\nvalue = [0, 1]'),\n",
              " Text(269.0239685658153, 87.81230769230768, 'entropy = 0.0\\nsamples = 3\\nvalue = [3, 0]'),\n",
              " Text(271.6550098231827, 96.17538461538462, 'entropy = 0.0\\nsamples = 2\\nvalue = [0, 2]'),\n",
              " Text(274.2860510805501, 121.26461538461538, 'X[7] <= 142.57\\nentropy = 0.764\\nsamples = 9\\nvalue = [7, 2]'),\n",
              " Text(271.6550098231827, 112.90153846153846, 'entropy = 0.0\\nsamples = 6\\nvalue = [6, 0]'),\n",
              " Text(276.9170923379175, 112.90153846153846, 'X[4] <= 0.468\\nentropy = 0.918\\nsamples = 3\\nvalue = [1, 2]'),\n",
              " Text(274.2860510805501, 104.53846153846153, 'entropy = 0.0\\nsamples = 1\\nvalue = [1, 0]'),\n",
              " Text(279.54813359528487, 104.53846153846153, 'entropy = 0.0\\nsamples = 2\\nvalue = [0, 2]'),\n",
              " Text(290.0722986247544, 179.80615384615385, 'X[7] <= 96.46\\nentropy = 0.901\\nsamples = 41\\nvalue = [28, 13]'),\n",
              " Text(287.44125736738704, 171.44307692307692, 'entropy = 0.0\\nsamples = 8\\nvalue = [8, 0]'),\n",
              " Text(292.70333988212184, 171.44307692307692, 'X[1] <= 9.87\\nentropy = 0.967\\nsamples = 33\\nvalue = [20, 13]'),\n",
              " Text(290.0722986247544, 163.07999999999998, 'X[6] <= 8.216\\nentropy = 0.894\\nsamples = 29\\nvalue = [20, 9]'),\n",
              " Text(287.44125736738704, 154.71692307692308, 'X[3] <= 3.914\\nentropy = 0.826\\nsamples = 27\\nvalue = [20, 7]'),\n",
              " Text(284.81021611001967, 146.35384615384615, 'X[5] <= 177.84\\nentropy = 0.949\\nsamples = 19\\nvalue = [12, 7]'),\n",
              " Text(279.54813359528487, 137.99076923076922, 'X[1] <= 6.09\\nentropy = 0.811\\nsamples = 4\\nvalue = [1, 3]'),\n",
              " Text(276.9170923379175, 129.6276923076923, 'entropy = 0.0\\nsamples = 1\\nvalue = [1, 0]'),\n",
              " Text(282.1791748526523, 129.6276923076923, 'entropy = 0.0\\nsamples = 3\\nvalue = [0, 3]'),\n",
              " Text(290.0722986247544, 137.99076923076922, 'X[2] <= 66.202\\nentropy = 0.837\\nsamples = 15\\nvalue = [11, 4]'),\n",
              " Text(287.44125736738704, 129.6276923076923, 'X[7] <= 120.84\\nentropy = 0.946\\nsamples = 11\\nvalue = [7, 4]'),\n",
              " Text(284.81021611001967, 121.26461538461538, 'X[3] <= 1.081\\nentropy = 1.0\\nsamples = 8\\nvalue = [4, 4]'),\n",
              " Text(282.1791748526523, 112.90153846153846, 'entropy = 0.0\\nsamples = 2\\nvalue = [2, 0]'),\n",
              " Text(287.44125736738704, 112.90153846153846, 'X[2] <= 57.96\\nentropy = 0.918\\nsamples = 6\\nvalue = [2, 4]'),\n",
              " Text(284.81021611001967, 104.53846153846153, 'X[3] <= 2.266\\nentropy = 0.918\\nsamples = 3\\nvalue = [2, 1]'),\n",
              " Text(282.1791748526523, 96.17538461538462, 'entropy = 0.0\\nsamples = 1\\nvalue = [0, 1]'),\n",
              " Text(287.44125736738704, 96.17538461538462, 'entropy = 0.0\\nsamples = 2\\nvalue = [2, 0]'),\n",
              " Text(290.0722986247544, 104.53846153846153, 'entropy = 0.0\\nsamples = 3\\nvalue = [0, 3]'),\n",
              " Text(290.0722986247544, 121.26461538461538, 'entropy = 0.0\\nsamples = 3\\nvalue = [3, 0]'),\n",
              " Text(292.70333988212184, 129.6276923076923, 'entropy = 0.0\\nsamples = 4\\nvalue = [4, 0]'),\n",
              " Text(290.0722986247544, 146.35384615384615, 'entropy = 0.0\\nsamples = 8\\nvalue = [8, 0]'),\n",
              " Text(292.70333988212184, 154.71692307692308, 'entropy = 0.0\\nsamples = 2\\nvalue = [0, 2]'),\n",
              " Text(295.3343811394892, 163.07999999999998, 'entropy = 0.0\\nsamples = 4\\nvalue = [0, 4]'),\n",
              " Text(309.147347740668, 188.16923076923078, 'X[0] <= 27.5\\nentropy = 0.952\\nsamples = 78\\nvalue = [49, 29]'),\n",
              " Text(306.5163064833006, 179.80615384615385, 'entropy = 0.0\\nsamples = 2\\nvalue = [0, 2]'),\n",
              " Text(311.7783889980354, 179.80615384615385, 'X[0] <= 36.85\\nentropy = 0.939\\nsamples = 76\\nvalue = [49, 27]'),\n",
              " Text(303.2275049115914, 171.44307692307692, 'X[2] <= 72.555\\nentropy = 0.469\\nsamples = 10\\nvalue = [9, 1]'),\n",
              " Text(300.59646365422395, 163.07999999999998, 'entropy = 0.0\\nsamples = 9\\nvalue = [9, 0]'),\n",
              " Text(305.85854616895875, 163.07999999999998, 'entropy = 0.0\\nsamples = 1\\nvalue = [0, 1]'),\n",
              " Text(320.3292730844794, 171.44307692307692, 'X[6] <= 11.18\\nentropy = 0.967\\nsamples = 66\\nvalue = [40, 26]'),\n",
              " Text(311.12062868369355, 163.07999999999998, 'X[7] <= 142.04\\nentropy = 0.93\\nsamples = 55\\nvalue = [36, 19]'),\n",
              " Text(305.85854616895875, 154.71692307692308, 'X[3] <= 1.184\\nentropy = 0.971\\nsamples = 45\\nvalue = [27, 18]'),\n",
              " Text(303.2275049115914, 146.35384615384615, 'entropy = 0.0\\nsamples = 4\\nvalue = [4, 0]'),\n",
              " Text(308.4895874263261, 146.35384615384615, 'X[3] <= 1.493\\nentropy = 0.989\\nsamples = 41\\nvalue = [23, 18]'),\n",
              " Text(305.85854616895875, 137.99076923076922, 'entropy = 0.0\\nsamples = 3\\nvalue = [0, 3]'),\n",
              " Text(311.12062868369355, 137.99076923076922, 'X[6] <= 9.516\\nentropy = 0.968\\nsamples = 38\\nvalue = [23, 15]'),\n",
              " Text(303.2275049115914, 129.6276923076923, 'X[0] <= 50.05\\nentropy = 0.94\\nsamples = 14\\nvalue = [5, 9]'),\n",
              " Text(300.59646365422395, 121.26461538461538, 'entropy = 0.0\\nsamples = 6\\nvalue = [0, 6]'),\n",
              " Text(305.85854616895875, 121.26461538461538, 'X[7] <= 114.48\\nentropy = 0.954\\nsamples = 8\\nvalue = [5, 3]'),\n",
              " Text(303.2275049115914, 112.90153846153846, 'entropy = 0.0\\nsamples = 4\\nvalue = [4, 0]'),\n",
              " Text(308.4895874263261, 112.90153846153846, 'X[5] <= 295.36\\nentropy = 0.811\\nsamples = 4\\nvalue = [1, 3]'),\n",
              " Text(305.85854616895875, 104.53846153846153, 'entropy = 0.0\\nsamples = 3\\nvalue = [0, 3]'),\n",
              " Text(311.12062868369355, 104.53846153846153, 'entropy = 0.0\\nsamples = 1\\nvalue = [1, 0]'),\n",
              " Text(319.01375245579567, 129.6276923076923, 'X[2] <= 61.267\\nentropy = 0.811\\nsamples = 24\\nvalue = [18, 6]'),\n",
              " Text(316.3827111984283, 121.26461538461538, 'entropy = 0.0\\nsamples = 11\\nvalue = [11, 0]'),\n",
              " Text(321.6447937131631, 121.26461538461538, 'X[2] <= 74.865\\nentropy = 0.996\\nsamples = 13\\nvalue = [7, 6]'),\n",
              " Text(319.01375245579567, 112.90153846153846, 'X[4] <= 0.78\\nentropy = 0.971\\nsamples = 10\\nvalue = [4, 6]'),\n",
              " Text(316.3827111984283, 104.53846153846153, 'X[5] <= 229.32\\nentropy = 0.811\\nsamples = 8\\nvalue = [2, 6]'),\n",
              " Text(313.7516699410609, 96.17538461538462, 'X[6] <= 10.296\\nentropy = 0.918\\nsamples = 3\\nvalue = [2, 1]'),\n",
              " Text(311.12062868369355, 87.81230769230768, 'entropy = 0.0\\nsamples = 2\\nvalue = [2, 0]'),\n",
              " Text(316.3827111984283, 87.81230769230768, 'entropy = 0.0\\nsamples = 1\\nvalue = [0, 1]'),\n",
              " Text(319.01375245579567, 96.17538461538462, 'entropy = 0.0\\nsamples = 5\\nvalue = [0, 5]'),\n",
              " Text(321.6447937131631, 104.53846153846153, 'entropy = 0.0\\nsamples = 2\\nvalue = [2, 0]'),\n",
              " Text(324.27583497053047, 112.90153846153846, 'entropy = 0.0\\nsamples = 3\\nvalue = [3, 0]'),\n",
              " Text(316.3827111984283, 154.71692307692308, 'X[1] <= 8.977\\nentropy = 0.469\\nsamples = 10\\nvalue = [9, 1]'),\n",
              " Text(313.7516699410609, 146.35384615384615, 'entropy = 0.0\\nsamples = 9\\nvalue = [9, 0]'),\n",
              " Text(319.01375245579567, 146.35384615384615, 'entropy = 0.0\\nsamples = 1\\nvalue = [0, 1]'),\n",
              " Text(329.5379174852652, 163.07999999999998, 'X[0] <= 50.05\\nentropy = 0.946\\nsamples = 11\\nvalue = [4, 7]'),\n",
              " Text(326.90687622789784, 154.71692307692308, 'X[7] <= 164.3\\nentropy = 0.918\\nsamples = 6\\nvalue = [4, 2]'),\n",
              " Text(324.27583497053047, 146.35384615384615, 'X[3] <= 0.669\\nentropy = 0.722\\nsamples = 5\\nvalue = [4, 1]'),\n",
              " Text(321.6447937131631, 137.99076923076922, 'entropy = 0.0\\nsamples = 1\\nvalue = [0, 1]'),\n",
              " Text(326.90687622789784, 137.99076923076922, 'entropy = 0.0\\nsamples = 4\\nvalue = [4, 0]'),\n",
              " Text(329.5379174852652, 146.35384615384615, 'entropy = 0.0\\nsamples = 1\\nvalue = [0, 1]'),\n",
              " Text(332.16895874263264, 154.71692307692308, 'entropy = 0.0\\nsamples = 5\\nvalue = [0, 5]'),\n",
              " Text(277.7495702357564, 196.53230769230768, 'entropy = 0.0\\nsamples = 7\\nvalue = [7, 0]'),\n",
              " Text(280.3806114931238, 204.89538461538461, 'entropy = 0.0\\nsamples = 73\\nvalue = [73, 0]')]"
            ]
          },
          "metadata": {
            "tags": []
          },
          "execution_count": 47
        },
        {
          "output_type": "display_data",
          "data": {
            "image/png": "[encoded data removed]",
            "text/plain": [
              "<Figure size 432x288 with 1 Axes>"
            ]
          },
          "metadata": {
            "tags": []
          }
        }
      ]
    },
    {
      "cell_type": "code",
      "metadata": {
        "id": "DRxll4x8u_ii",
        "colab_type": "code",
        "outputId": "2f73746a-ff79-4596-9bff-0107ec4cd9f3",
        "colab": {
          "base_uri": "https://localhost:8080/",
          "height": 237
        }
      },
      "source": [
        "# prune: limit max_depth\n",
        "model01 = tree.DecisionTreeClassifier(criterion='entropy',max_depth=20 ,min_samples_leaf=5,random_state=5)\n",
        "print(model01)     \n",
        "model01.fit(x_train0, y_train0)"
      ],
      "execution_count": 0,
      "outputs": [
        {
          "output_type": "stream",
          "text": [
            "DecisionTreeClassifier(ccp_alpha=0.0, class_weight=None, criterion='entropy',\n",
            "                       max_depth=20, max_features=None, max_leaf_nodes=None,\n",
            "                       min_impurity_decrease=0.0, min_impurity_split=None,\n",
            "                       min_samples_leaf=5, min_samples_split=2,\n",
            "                       min_weight_fraction_leaf=0.0, presort='deprecated',\n",
            "                       random_state=5, splitter='best')\n"
          ],
          "name": "stdout"
        },
        {
          "output_type": "execute_result",
          "data": {
            "text/plain": [
              "DecisionTreeClassifier(ccp_alpha=0.0, class_weight=None, criterion='entropy',\n",
              "                       max_depth=20, max_features=None, max_leaf_nodes=None,\n",
              "                       min_impurity_decrease=0.0, min_impurity_split=None,\n",
              "                       min_samples_leaf=5, min_samples_split=2,\n",
              "                       min_weight_fraction_leaf=0.0, presort='deprecated',\n",
              "                       random_state=5, splitter='best')"
            ]
          },
          "metadata": {
            "tags": []
          },
          "execution_count": 48
        }
      ]
    },
    {
      "cell_type": "markdown",
      "metadata": {
        "id": "MCFUHg0yIBmW",
        "colab_type": "text"
      },
      "source": [
        "performance improved on test dataset "
      ]
    },
    {
      "cell_type": "code",
      "metadata": {
        "id": "TRtGg_2PH8L8",
        "colab_type": "code",
        "outputId": "bb46ad88-6d40-478a-c3ac-39d92a5ad341",
        "colab": {
          "base_uri": "https://localhost:8080/",
          "height": 182
        }
      },
      "source": [
        "print(classification_report(y_train0,model01.predict(x_train0))) "
      ],
      "execution_count": 0,
      "outputs": [
        {
          "output_type": "stream",
          "text": [
            "              precision    recall  f1-score   support\n",
            "\n",
            "         0.0       0.87      0.87      0.87       352\n",
            "         1.0       0.85      0.85      0.85       313\n",
            "\n",
            "    accuracy                           0.86       665\n",
            "   macro avg       0.86      0.86      0.86       665\n",
            "weighted avg       0.86      0.86      0.86       665\n",
            "\n"
          ],
          "name": "stdout"
        }
      ]
    },
    {
      "cell_type": "code",
      "metadata": {
        "id": "Kl93OitMyj66",
        "colab_type": "code",
        "outputId": "d2d1b2b2-004e-47d9-a3e7-a8688245f5d0",
        "colab": {
          "base_uri": "https://localhost:8080/",
          "height": 182
        }
      },
      "source": [
        "print(classification_report(y_test0,model01.predict(x_test0)))"
      ],
      "execution_count": 0,
      "outputs": [
        {
          "output_type": "stream",
          "text": [
            "              precision    recall  f1-score   support\n",
            "\n",
            "         0.0       0.59      0.69      0.64        81\n",
            "         1.0       0.65      0.55      0.59        86\n",
            "\n",
            "    accuracy                           0.62       167\n",
            "   macro avg       0.62      0.62      0.62       167\n",
            "weighted avg       0.62      0.62      0.62       167\n",
            "\n"
          ],
          "name": "stdout"
        }
      ]
    },
    {
      "cell_type": "code",
      "metadata": {
        "id": "-lTGxDkc1XEa",
        "colab_type": "code",
        "colab": {}
      },
      "source": [
        ""
      ],
      "execution_count": 0,
      "outputs": []
    },
    {
      "cell_type": "code",
      "metadata": {
        "id": "_i3v0SlKqrtf",
        "colab_type": "code",
        "colab": {}
      },
      "source": [
        "#random forest (deal with overfit)\n",
        "from sklearn.ensemble import RandomForestClassifier\n",
        "from sklearn.model_selection import cross_val_score\n",
        "model02 = RandomForestClassifier(n_estimators=500,max_features=None, min_samples_leaf= 10,max_depth=80,min_samples_split=300,random_state=10)\n",
        "scores = cross_val_score(model02, x_train0, y_train0, cv=5)\n"
      ],
      "execution_count": 0,
      "outputs": []
    },
    {
      "cell_type": "code",
      "metadata": {
        "id": "S3pSqB_3s0HJ",
        "colab_type": "code",
        "outputId": "28e244e6-7db4-456b-c9b3-38531daf1f01",
        "colab": {
          "base_uri": "https://localhost:8080/",
          "height": 164
        }
      },
      "source": [
        "model02.fit(x_train0,y_train0)"
      ],
      "execution_count": 0,
      "outputs": [
        {
          "output_type": "execute_result",
          "data": {
            "text/plain": [
              "RandomForestClassifier(bootstrap=True, ccp_alpha=0.0, class_weight=None,\n",
              "                       criterion='gini', max_depth=80, max_features=None,\n",
              "                       max_leaf_nodes=None, max_samples=None,\n",
              "                       min_impurity_decrease=0.0, min_impurity_split=None,\n",
              "                       min_samples_leaf=10, min_samples_split=300,\n",
              "                       min_weight_fraction_leaf=0.0, n_estimators=500,\n",
              "                       n_jobs=None, oob_score=False, random_state=10, verbose=0,\n",
              "                       warm_start=False)"
            ]
          },
          "metadata": {
            "tags": []
          },
          "execution_count": 52
        }
      ]
    },
    {
      "cell_type": "markdown",
      "metadata": {
        "id": "s2u-oHL8JNYY",
        "colab_type": "text"
      },
      "source": [
        "## Evaluate"
      ]
    },
    {
      "cell_type": "code",
      "metadata": {
        "id": "BqWZmHh1s5tR",
        "colab_type": "code",
        "outputId": "86119138-65d4-4ed4-957e-895bb9e7a142",
        "colab": {
          "base_uri": "https://localhost:8080/",
          "height": 35
        }
      },
      "source": [
        "model02.score(x_train0,y_train0)"
      ],
      "execution_count": 0,
      "outputs": [
        {
          "output_type": "execute_result",
          "data": {
            "text/plain": [
              "0.6631578947368421"
            ]
          },
          "metadata": {
            "tags": []
          },
          "execution_count": 53
        }
      ]
    },
    {
      "cell_type": "code",
      "metadata": {
        "id": "QmNI1DQttG91",
        "colab_type": "code",
        "outputId": "3a7dbe31-20c2-43ac-e4a8-d10de70e8b63",
        "colab": {
          "base_uri": "https://localhost:8080/",
          "height": 35
        }
      },
      "source": [
        "model02.score(x_test0,y_test0)"
      ],
      "execution_count": 0,
      "outputs": [
        {
          "output_type": "execute_result",
          "data": {
            "text/plain": [
              "0.6526946107784432"
            ]
          },
          "metadata": {
            "tags": []
          },
          "execution_count": 54
        }
      ]
    },
    {
      "cell_type": "code",
      "metadata": {
        "id": "MjQof0eiQX7w",
        "colab_type": "code",
        "outputId": "1d2ae70b-7580-49e9-8ece-1d03393a49d9",
        "colab": {
          "base_uri": "https://localhost:8080/",
          "height": 182
        }
      },
      "source": [
        "print(classification_report(y_train0,model02.predict(x_train0)))"
      ],
      "execution_count": 0,
      "outputs": [
        {
          "output_type": "stream",
          "text": [
            "              precision    recall  f1-score   support\n",
            "\n",
            "         0.0       0.78      0.51      0.61       352\n",
            "         1.0       0.60      0.84      0.70       313\n",
            "\n",
            "    accuracy                           0.66       665\n",
            "   macro avg       0.69      0.67      0.66       665\n",
            "weighted avg       0.70      0.66      0.65       665\n",
            "\n"
          ],
          "name": "stdout"
        }
      ]
    },
    {
      "cell_type": "code",
      "metadata": {
        "id": "GdrQlNWGEAWz",
        "colab_type": "code",
        "outputId": "ca189b20-2c19-4f52-b91f-f00246297167",
        "colab": {
          "base_uri": "https://localhost:8080/",
          "height": 182
        }
      },
      "source": [
        "print(classification_report(y_test0,model02.predict(x_test0)))"
      ],
      "execution_count": 0,
      "outputs": [
        {
          "output_type": "stream",
          "text": [
            "              precision    recall  f1-score   support\n",
            "\n",
            "         0.0       0.73      0.46      0.56        81\n",
            "         1.0       0.62      0.84      0.71        86\n",
            "\n",
            "    accuracy                           0.65       167\n",
            "   macro avg       0.67      0.65      0.64       167\n",
            "weighted avg       0.67      0.65      0.64       167\n",
            "\n"
          ],
          "name": "stdout"
        }
      ]
    },
    {
      "cell_type": "code",
      "metadata": {
        "id": "FzRxCvM0e_jG",
        "colab_type": "code",
        "outputId": "a2de205d-080b-4e5d-c6d4-7c4ee211febc",
        "colab": {
          "base_uri": "https://localhost:8080/",
          "height": 35
        }
      },
      "source": [
        "from sklearn import svm\n",
        "svm_model = svm.SVC()\n",
        "svm_model.fit(x_train0,y_train0)\n",
        "svm_model.score(x_train0,y_train0)"
      ],
      "execution_count": 0,
      "outputs": [
        {
          "output_type": "execute_result",
          "data": {
            "text/plain": [
              "0.5293233082706766"
            ]
          },
          "metadata": {
            "tags": []
          },
          "execution_count": 57
        }
      ]
    },
    {
      "cell_type": "code",
      "metadata": {
        "id": "zTA9f7OIfjJ0",
        "colab_type": "code",
        "outputId": "05249b83-63e4-4a8c-d791-ca50be8153eb",
        "colab": {
          "base_uri": "https://localhost:8080/",
          "height": 35
        }
      },
      "source": [
        "svm_model.score(x_test0,y_test0)"
      ],
      "execution_count": 0,
      "outputs": [
        {
          "output_type": "execute_result",
          "data": {
            "text/plain": [
              "0.48502994011976047"
            ]
          },
          "metadata": {
            "tags": []
          },
          "execution_count": 58
        }
      ]
    },
    {
      "cell_type": "code",
      "metadata": {
        "id": "UKzgMFf_s7nr",
        "colab_type": "code",
        "outputId": "e8e5fd91-6699-41e7-f7fb-a7de975aaba5",
        "colab": {
          "base_uri": "https://localhost:8080/",
          "height": 182
        }
      },
      "source": [
        "!pip install hyperopt"
      ],
      "execution_count": 0,
      "outputs": [
        {
          "output_type": "stream",
          "text": [
            "Requirement already satisfied: hyperopt in /usr/local/lib/python3.6/dist-packages (0.1.2)\n",
            "Requirement already satisfied: numpy in /usr/local/lib/python3.6/dist-packages (from hyperopt) (1.17.5)\n",
            "Requirement already satisfied: six in /usr/local/lib/python3.6/dist-packages (from hyperopt) (1.12.0)\n",
            "Requirement already satisfied: pymongo in /usr/local/lib/python3.6/dist-packages (from hyperopt) (3.10.0)\n",
            "Requirement already satisfied: networkx in /usr/local/lib/python3.6/dist-packages (from hyperopt) (2.4)\n",
            "Requirement already satisfied: tqdm in /usr/local/lib/python3.6/dist-packages (from hyperopt) (4.28.1)\n",
            "Requirement already satisfied: scipy in /usr/local/lib/python3.6/dist-packages (from hyperopt) (1.4.1)\n",
            "Requirement already satisfied: future in /usr/local/lib/python3.6/dist-packages (from hyperopt) (0.16.0)\n",
            "Requirement already satisfied: decorator>=4.3.0 in /usr/local/lib/python3.6/dist-packages (from networkx->hyperopt) (4.4.1)\n"
          ],
          "name": "stdout"
        }
      ]
    },
    {
      "cell_type": "code",
      "metadata": {
        "id": "IWpfkO4hgPrQ",
        "colab_type": "code",
        "outputId": "1b7e3e67-709e-4ca1-9974-7daa19dc55d2",
        "colab": {
          "base_uri": "https://localhost:8080/",
          "height": 35
        }
      },
      "source": [
        "from sklearn import linear_model\n",
        "from sklearn import preprocessing\n",
        "x_train0_n = preprocessing.normalize(x_train0)\n",
        "reg = linear_model.SGDClassifier(max_iter=500000,loss = 'log',)\n",
        "reg.fit(x_train0,y_train0)\n",
        "reg.score(x_train0,y_train0)"
      ],
      "execution_count": 0,
      "outputs": [
        {
          "output_type": "execute_result",
          "data": {
            "text/plain": [
              "0.47368421052631576"
            ]
          },
          "metadata": {
            "tags": []
          },
          "execution_count": 60
        }
      ]
    },
    {
      "cell_type": "code",
      "metadata": {
        "id": "zgnDWAeMjCRb",
        "colab_type": "code",
        "outputId": "6556d300-800a-441d-c5d6-a2f04d037850",
        "colab": {
          "base_uri": "https://localhost:8080/",
          "height": 35
        }
      },
      "source": [
        "reg.score(x_test0,y_test0)"
      ],
      "execution_count": 0,
      "outputs": [
        {
          "output_type": "execute_result",
          "data": {
            "text/plain": [
              "0.5269461077844312"
            ]
          },
          "metadata": {
            "tags": []
          },
          "execution_count": 62
        }
      ]
    },
    {
      "cell_type": "markdown",
      "metadata": {
        "id": "q2QG1xytImc5",
        "colab_type": "text"
      },
      "source": [
        ""
      ]
    },
    {
      "cell_type": "code",
      "metadata": {
        "id": "zYejN28XV0UV",
        "colab_type": "code",
        "outputId": "3253c6b7-4ca4-4695-b4f2-2b1302ed97ce",
        "colab": {
          "base_uri": "https://localhost:8080/",
          "height": 208
        }
      },
      "source": [
        "from sklearn.metrics import confusion_matrix\n",
        "cm = confusion_matrix(y_true=y_test,y_pred=model4.predict(x_test))\n",
        "plot_confusion_matrix(cm,['kidney failure(Y)','kidney failure(N)'],'kidney failure')\n"
      ],
      "execution_count": 0,
      "outputs": [
        {
          "output_type": "error",
          "ename": "NameError",
          "evalue": "ignored",
          "traceback": [
            "\u001b[0;31m---------------------------------------------------------------------------\u001b[0m",
            "\u001b[0;31mNameError\u001b[0m                                 Traceback (most recent call last)",
            "\u001b[0;32m<ipython-input-63-9153c9f81ec9>\u001b[0m in \u001b[0;36m<module>\u001b[0;34m()\u001b[0m\n\u001b[1;32m      1\u001b[0m \u001b[0;32mfrom\u001b[0m \u001b[0msklearn\u001b[0m\u001b[0;34m.\u001b[0m\u001b[0mmetrics\u001b[0m \u001b[0;32mimport\u001b[0m \u001b[0mconfusion_matrix\u001b[0m\u001b[0;34m\u001b[0m\u001b[0;34m\u001b[0m\u001b[0m\n\u001b[0;32m----> 2\u001b[0;31m \u001b[0mcm\u001b[0m \u001b[0;34m=\u001b[0m \u001b[0mconfusion_matrix\u001b[0m\u001b[0;34m(\u001b[0m\u001b[0my_true\u001b[0m\u001b[0;34m=\u001b[0m\u001b[0my_test\u001b[0m\u001b[0;34m,\u001b[0m\u001b[0my_pred\u001b[0m\u001b[0;34m=\u001b[0m\u001b[0mmodel4\u001b[0m\u001b[0;34m.\u001b[0m\u001b[0mpredict\u001b[0m\u001b[0;34m(\u001b[0m\u001b[0mx_test\u001b[0m\u001b[0;34m)\u001b[0m\u001b[0;34m)\u001b[0m\u001b[0;34m\u001b[0m\u001b[0;34m\u001b[0m\u001b[0m\n\u001b[0m\u001b[1;32m      3\u001b[0m \u001b[0mplot_confusion_matrix\u001b[0m\u001b[0;34m(\u001b[0m\u001b[0mcm\u001b[0m\u001b[0;34m,\u001b[0m\u001b[0;34m[\u001b[0m\u001b[0;34m'kidney failure(Y)'\u001b[0m\u001b[0;34m,\u001b[0m\u001b[0;34m'kidney failure(N)'\u001b[0m\u001b[0;34m]\u001b[0m\u001b[0;34m,\u001b[0m\u001b[0;34m'kidney failure'\u001b[0m\u001b[0;34m)\u001b[0m\u001b[0;34m\u001b[0m\u001b[0;34m\u001b[0m\u001b[0m\n",
            "\u001b[0;31mNameError\u001b[0m: name 'model4' is not defined"
          ]
        }
      ]
    },
    {
      "cell_type": "code",
      "metadata": {
        "id": "bQmIyfyKWzWY",
        "colab_type": "code",
        "outputId": "2cd08028-c9f4-4ea8-97bc-b13813ba389b",
        "colab": {
          "base_uri": "https://localhost:8080/",
          "height": 71
        }
      },
      "source": [
        "cm"
      ],
      "execution_count": 0,
      "outputs": [
        {
          "output_type": "execute_result",
          "data": {
            "text/plain": [
              "array([[52, 31],\n",
              "       [34, 50]])"
            ]
          },
          "metadata": {
            "tags": []
          },
          "execution_count": 599
        }
      ]
    },
    {
      "cell_type": "markdown",
      "metadata": {
        "id": "e4p0ZXewImoa",
        "colab_type": "text"
      },
      "source": [
        "## Feature selection (second try)"
      ]
    },
    {
      "cell_type": "code",
      "metadata": {
        "id": "HLDN13ebx0k8",
        "colab_type": "code",
        "outputId": "9215a2c5-5d5a-4633-fb69-48534b94907d",
        "colab": {
          "base_uri": "https://localhost:8080/",
          "height": 220
        }
      },
      "source": [
        "data4 = pd.DataFrame(data=data,columns=[\n",
        "                                         'urea',\n",
        "                                        'platelets',\n",
        "                                        'glucose',\n",
        "                                        'leukocytes',\n",
        "                                        'kidney genetic test (gene a3hc)',\n",
        "                                         'kidney failure',\n",
        "                                        ])\n",
        "data4.info()"
      ],
      "execution_count": 0,
      "outputs": [
        {
          "output_type": "stream",
          "text": [
            "<class 'pandas.core.frame.DataFrame'>\n",
            "RangeIndex: 957 entries, 0 to 956\n",
            "Data columns (total 6 columns):\n",
            "urea                               836 non-null float64\n",
            "platelets                          833 non-null float64\n",
            "glucose                            836 non-null float64\n",
            "leukocytes                         833 non-null float64\n",
            "kidney genetic test (gene a3hc)    957 non-null int64\n",
            "kidney failure                     957 non-null int64\n",
            "dtypes: float64(4), int64(2)\n",
            "memory usage: 45.0 KB\n"
          ],
          "name": "stdout"
        }
      ]
    },
    {
      "cell_type": "code",
      "metadata": {
        "id": "ooyzvr1nyIs3",
        "colab_type": "code",
        "outputId": "de185847-151d-46e4-b02b-76aed5b300f6",
        "colab": {
          "base_uri": "https://localhost:8080/",
          "height": 220
        }
      },
      "source": [
        "data5 = pd.DataFrame(data4)\n",
        "data5.dropna(how='any', inplace=True)\n",
        "data5.info()"
      ],
      "execution_count": 0,
      "outputs": [
        {
          "output_type": "stream",
          "text": [
            "<class 'pandas.core.frame.DataFrame'>\n",
            "Int64Index: 833 entries, 0 to 956\n",
            "Data columns (total 6 columns):\n",
            "urea                               833 non-null float64\n",
            "platelets                          833 non-null float64\n",
            "glucose                            833 non-null float64\n",
            "leukocytes                         833 non-null float64\n",
            "kidney genetic test (gene a3hc)    833 non-null int64\n",
            "kidney failure                     833 non-null int64\n",
            "dtypes: float64(4), int64(2)\n",
            "memory usage: 45.6 KB\n"
          ],
          "name": "stdout"
        }
      ]
    },
    {
      "cell_type": "code",
      "metadata": {
        "id": "BNS2b28EyPTs",
        "colab_type": "code",
        "outputId": "2965aa2e-67a0-45f1-94a7-e65c2d7fd73c",
        "colab": {
          "base_uri": "https://localhost:8080/",
          "height": 320
        }
      },
      "source": [
        "import numpy as np\n",
        "data_set = data5.values\n",
        "print(data_set.shape)\n",
        "print(data_set[0:5])\n",
        "data5.head(5)"
      ],
      "execution_count": 0,
      "outputs": [
        {
          "output_type": "stream",
          "text": [
            "(833, 6)\n",
            "[[ 36.3   261.04  107.06    6.76    0.      0.   ]\n",
            " [ 50.6   331.76  188.68    8.632   0.      1.   ]\n",
            " [ 27.5   600.08  119.78    7.696   0.      0.   ]\n",
            " [ 50.6   200.72  124.02    6.656   0.      0.   ]\n",
            " [ 31.9   261.04   85.86    5.928   0.      1.   ]]\n"
          ],
          "name": "stdout"
        },
        {
          "output_type": "execute_result",
          "data": {
            "text/html": [
              "<div>\n",
              "<style scoped>\n",
              "    .dataframe tbody tr th:only-of-type {\n",
              "        vertical-align: middle;\n",
              "    }\n",
              "\n",
              "    .dataframe tbody tr th {\n",
              "        vertical-align: top;\n",
              "    }\n",
              "\n",
              "    .dataframe thead th {\n",
              "        text-align: right;\n",
              "    }\n",
              "</style>\n",
              "<table border=\"1\" class=\"dataframe\">\n",
              "  <thead>\n",
              "    <tr style=\"text-align: right;\">\n",
              "      <th></th>\n",
              "      <th>urea</th>\n",
              "      <th>platelets</th>\n",
              "      <th>glucose</th>\n",
              "      <th>leukocytes</th>\n",
              "      <th>kidney genetic test (gene a3hc)</th>\n",
              "      <th>kidney failure</th>\n",
              "    </tr>\n",
              "  </thead>\n",
              "  <tbody>\n",
              "    <tr>\n",
              "      <th>0</th>\n",
              "      <td>36.3</td>\n",
              "      <td>261.04</td>\n",
              "      <td>107.06</td>\n",
              "      <td>6.760</td>\n",
              "      <td>0</td>\n",
              "      <td>0</td>\n",
              "    </tr>\n",
              "    <tr>\n",
              "      <th>1</th>\n",
              "      <td>50.6</td>\n",
              "      <td>331.76</td>\n",
              "      <td>188.68</td>\n",
              "      <td>8.632</td>\n",
              "      <td>0</td>\n",
              "      <td>1</td>\n",
              "    </tr>\n",
              "    <tr>\n",
              "      <th>3</th>\n",
              "      <td>27.5</td>\n",
              "      <td>600.08</td>\n",
              "      <td>119.78</td>\n",
              "      <td>7.696</td>\n",
              "      <td>0</td>\n",
              "      <td>0</td>\n",
              "    </tr>\n",
              "    <tr>\n",
              "      <th>4</th>\n",
              "      <td>50.6</td>\n",
              "      <td>200.72</td>\n",
              "      <td>124.02</td>\n",
              "      <td>6.656</td>\n",
              "      <td>0</td>\n",
              "      <td>0</td>\n",
              "    </tr>\n",
              "    <tr>\n",
              "      <th>5</th>\n",
              "      <td>31.9</td>\n",
              "      <td>261.04</td>\n",
              "      <td>85.86</td>\n",
              "      <td>5.928</td>\n",
              "      <td>0</td>\n",
              "      <td>1</td>\n",
              "    </tr>\n",
              "  </tbody>\n",
              "</table>\n",
              "</div>"
            ],
            "text/plain": [
              "   urea  platelets  ...  kidney genetic test (gene a3hc)  kidney failure\n",
              "0  36.3     261.04  ...                                0               0\n",
              "1  50.6     331.76  ...                                0               1\n",
              "3  27.5     600.08  ...                                0               0\n",
              "4  50.6     200.72  ...                                0               0\n",
              "5  31.9     261.04  ...                                0               1\n",
              "\n",
              "[5 rows x 6 columns]"
            ]
          },
          "metadata": {
            "tags": []
          },
          "execution_count": 603
        }
      ]
    },
    {
      "cell_type": "markdown",
      "metadata": {
        "id": "zx0St7j9I04l",
        "colab_type": "text"
      },
      "source": [
        "## Modeling "
      ]
    },
    {
      "cell_type": "code",
      "metadata": {
        "id": "ENPui70JyWPs",
        "colab_type": "code",
        "outputId": "3a0cc096-f43c-4deb-e68f-dbdffdcc1299",
        "colab": {
          "base_uri": "https://localhost:8080/",
          "height": 54
        }
      },
      "source": [
        "from sklearn.model_selection import train_test_split\n",
        "from sklearn.metrics import precision_recall_curve  \n",
        "from sklearn.metrics import classification_report \n",
        "np.random.shuffle(data_set)\n",
        "x = data_set[:,np.arange(0,5)]\n",
        "y = data_set[:,5]\n",
        "x_train, x_test, y_train, y_test = train_test_split(x, y, test_size = 0.2)\n",
        "x.shape"
      ],
      "execution_count": 0,
      "outputs": [
        {
          "output_type": "execute_result",
          "data": {
            "text/plain": [
              "(833, 5)"
            ]
          },
          "metadata": {
            "tags": []
          },
          "execution_count": 621
        }
      ]
    },
    {
      "cell_type": "code",
      "metadata": {
        "id": "FveDdyEnyewq",
        "colab_type": "code",
        "outputId": "7a997478-58ba-486c-9cce-081d7c8b1612",
        "colab": {
          "base_uri": "https://localhost:8080/",
          "height": 236
        }
      },
      "source": [
        "# prune: max_depth = 7 , min_samples_leaf = 5\n",
        "from sklearn import tree\n",
        "model = tree.DecisionTreeClassifier(criterion='entropy',max_depth=10,min_samples_leaf=3)\n",
        "print(model)     \n",
        "model.fit(x_train, y_train)"
      ],
      "execution_count": 0,
      "outputs": [
        {
          "output_type": "stream",
          "text": [
            "DecisionTreeClassifier(class_weight=None, criterion='entropy', max_depth=10,\n",
            "                       max_features=None, max_leaf_nodes=None,\n",
            "                       min_impurity_decrease=0.0, min_impurity_split=None,\n",
            "                       min_samples_leaf=3, min_samples_split=2,\n",
            "                       min_weight_fraction_leaf=0.0, presort=False,\n",
            "                       random_state=None, splitter='best')\n"
          ],
          "name": "stdout"
        },
        {
          "output_type": "execute_result",
          "data": {
            "text/plain": [
              "DecisionTreeClassifier(class_weight=None, criterion='entropy', max_depth=10,\n",
              "                       max_features=None, max_leaf_nodes=None,\n",
              "                       min_impurity_decrease=0.0, min_impurity_split=None,\n",
              "                       min_samples_leaf=3, min_samples_split=2,\n",
              "                       min_weight_fraction_leaf=0.0, presort=False,\n",
              "                       random_state=None, splitter='best')"
            ]
          },
          "metadata": {
            "tags": []
          },
          "execution_count": 653
        }
      ]
    },
    {
      "cell_type": "code",
      "metadata": {
        "id": "kbnh-3bCylOh",
        "colab_type": "code",
        "outputId": "20311a54-4542-4d60-c156-c9b76e8411fa",
        "colab": {
          "base_uri": "https://localhost:8080/",
          "height": 54
        }
      },
      "source": [
        "model.score(x_train,y_train)"
      ],
      "execution_count": 0,
      "outputs": [
        {
          "output_type": "execute_result",
          "data": {
            "text/plain": [
              "0.7882882882882883"
            ]
          },
          "metadata": {
            "tags": []
          },
          "execution_count": 623
        }
      ]
    },
    {
      "cell_type": "code",
      "metadata": {
        "id": "Yk7DLggpy8H-",
        "colab_type": "code",
        "outputId": "30de6a69-6510-46f5-febe-e037e3bfd18e",
        "colab": {
          "base_uri": "https://localhost:8080/",
          "height": 54
        }
      },
      "source": [
        "model.score(x_test,y_test)"
      ],
      "execution_count": 0,
      "outputs": [
        {
          "output_type": "execute_result",
          "data": {
            "text/plain": [
              "0.5269461077844312"
            ]
          },
          "metadata": {
            "tags": []
          },
          "execution_count": 624
        }
      ]
    },
    {
      "cell_type": "code",
      "metadata": {
        "id": "sioK1Jdgzu89",
        "colab_type": "code",
        "outputId": "8835e10f-0f09-46b2-88a2-b9fe5294cbb2",
        "colab": {
          "base_uri": "https://localhost:8080/",
          "height": 54
        }
      },
      "source": [
        "print(model.feature_importances_)  "
      ],
      "execution_count": 0,
      "outputs": [
        {
          "output_type": "stream",
          "text": [
            "[0.13636993 0.27078938 0.10964685 0.23181563 0.25137821]\n"
          ],
          "name": "stdout"
        }
      ]
    },
    {
      "cell_type": "markdown",
      "metadata": {
        "id": "OBd4YaZJJGPy",
        "colab_type": "text"
      },
      "source": [
        "## Evaluate"
      ]
    },
    {
      "cell_type": "code",
      "metadata": {
        "id": "Ae0xIAOl1TTQ",
        "colab_type": "code",
        "outputId": "7e481b1b-ebea-4d12-9f1d-dc600d0ac345",
        "colab": {
          "base_uri": "https://localhost:8080/",
          "height": 389
        }
      },
      "source": [
        "from sklearn.metrics import confusion_matrix\n",
        "cm = confusion_matrix(y_true=y_test,y_pred=model.predict(x_test))\n",
        "plot_confusion_matrix(cm,['kidney failure(Y)','kidney failure(N)'],'kidney failure')\n"
      ],
      "execution_count": 0,
      "outputs": [
        {
          "output_type": "display_data",
          "data": {
            "image/png": "[encoded data removed]",
            "text/plain": [
              "<Figure size 432x288 with 2 Axes>"
            ]
          },
          "metadata": {
            "tags": []
          }
        }
      ]
    },
    {
      "cell_type": "code",
      "metadata": {
        "id": "eNrOyebjCaOF",
        "colab_type": "code",
        "outputId": "b0bad455-5ef4-402f-910f-37231b86b27b",
        "colab": {
          "base_uri": "https://localhost:8080/",
          "height": 71
        }
      },
      "source": [
        "print(cm)"
      ],
      "execution_count": 0,
      "outputs": [
        {
          "output_type": "stream",
          "text": [
            "[[62 29]\n",
            " [33 43]]\n"
          ],
          "name": "stdout"
        }
      ]
    },
    {
      "cell_type": "code",
      "metadata": {
        "id": "-s1sYOa6Jn9X",
        "colab_type": "code",
        "outputId": "c4e29b8b-9e8b-44f0-835d-700b46d85a51",
        "colab": {
          "base_uri": "https://localhost:8080/",
          "height": 186
        }
      },
      "source": [
        "print(classification_report(y_train,model.predict(x_train)))"
      ],
      "execution_count": 0,
      "outputs": [
        {
          "output_type": "stream",
          "text": [
            "              precision    recall  f1-score   support\n",
            "\n",
            "         0.0       1.00      1.00      1.00       342\n",
            "         1.0       1.00      1.00      1.00       323\n",
            "\n",
            "    accuracy                           1.00       665\n",
            "   macro avg       1.00      1.00      1.00       665\n",
            "weighted avg       1.00      1.00      1.00       665\n",
            "\n"
          ],
          "name": "stdout"
        }
      ]
    },
    {
      "cell_type": "code",
      "metadata": {
        "id": "ylwns4p81wEU",
        "colab_type": "code",
        "outputId": "694cfe0e-9512-4212-fd0d-a1755662ce00",
        "colab": {
          "base_uri": "https://localhost:8080/",
          "height": 186
        }
      },
      "source": [
        "from sklearn.metrics import classification_report \n",
        "print(classification_report(y_test,model.predict(x_test)))"
      ],
      "execution_count": 0,
      "outputs": [
        {
          "output_type": "stream",
          "text": [
            "              precision    recall  f1-score   support\n",
            "\n",
            "         0.0       0.61      0.58      0.59        99\n",
            "         1.0       0.42      0.46      0.44        68\n",
            "\n",
            "    accuracy                           0.53       167\n",
            "   macro avg       0.52      0.52      0.52       167\n",
            "weighted avg       0.53      0.53      0.53       167\n",
            "\n"
          ],
          "name": "stdout"
        }
      ]
    },
    {
      "cell_type": "code",
      "metadata": {
        "id": "lvOs9bzPPhLz",
        "colab_type": "code",
        "outputId": "7da16bfa-166c-440c-b524-bcd7e6be15b7",
        "colab": {
          "base_uri": "https://localhost:8080/",
          "height": 153
        }
      },
      "source": [
        "#random forest (deal with overfit)\n",
        "from sklearn.ensemble import RandomForestClassifier\n",
        "from sklearn.model_selection import cross_val_score\n",
        "model = RandomForestClassifier(n_estimators=100, max_depth= 6, random_state=10)\n",
        "model.fit(x_train,y_train)"
      ],
      "execution_count": 0,
      "outputs": [
        {
          "output_type": "execute_result",
          "data": {
            "text/plain": [
              "RandomForestClassifier(bootstrap=True, class_weight=None, criterion='gini',\n",
              "                       max_depth=6, max_features='auto', max_leaf_nodes=None,\n",
              "                       min_impurity_decrease=0.0, min_impurity_split=None,\n",
              "                       min_samples_leaf=1, min_samples_split=2,\n",
              "                       min_weight_fraction_leaf=0.0, n_estimators=100,\n",
              "                       n_jobs=None, oob_score=False, random_state=10, verbose=0,\n",
              "                       warm_start=False)"
            ]
          },
          "metadata": {
            "tags": []
          },
          "execution_count": 650
        }
      ]
    },
    {
      "cell_type": "markdown",
      "metadata": {
        "id": "hLiYQ1V5P0EB",
        "colab_type": "text"
      },
      "source": [
        ""
      ]
    },
    {
      "cell_type": "code",
      "metadata": {
        "id": "syZzHCNoPt-Q",
        "colab_type": "code",
        "outputId": "08fc8cef-880e-4f00-d49a-cb75f1827fab",
        "colab": {
          "base_uri": "https://localhost:8080/",
          "height": 186
        }
      },
      "source": [
        "print(classification_report(y_train,model.predict(x_train)))"
      ],
      "execution_count": 0,
      "outputs": [
        {
          "output_type": "stream",
          "text": [
            "              precision    recall  f1-score   support\n",
            "\n",
            "         0.0       0.89      0.67      0.77       335\n",
            "         1.0       0.73      0.92      0.81       331\n",
            "\n",
            "    accuracy                           0.79       666\n",
            "   macro avg       0.81      0.79      0.79       666\n",
            "weighted avg       0.81      0.79      0.79       666\n",
            "\n"
          ],
          "name": "stdout"
        }
      ]
    },
    {
      "cell_type": "code",
      "metadata": {
        "id": "9S4GQ2BuP05P",
        "colab_type": "code",
        "outputId": "f05ffd61-a07f-4fbd-d415-e91aebaa8c8f",
        "colab": {
          "base_uri": "https://localhost:8080/",
          "height": 186
        }
      },
      "source": [
        "print(classification_report(y_test,model.predict(x_test)))"
      ],
      "execution_count": 0,
      "outputs": [
        {
          "output_type": "stream",
          "text": [
            "              precision    recall  f1-score   support\n",
            "\n",
            "         0.0       0.76      0.51      0.61        99\n",
            "         1.0       0.51      0.76      0.62        68\n",
            "\n",
            "    accuracy                           0.61       167\n",
            "   macro avg       0.64      0.63      0.61       167\n",
            "weighted avg       0.66      0.61      0.61       167\n",
            "\n"
          ],
          "name": "stdout"
        }
      ]
    }
  ]
}